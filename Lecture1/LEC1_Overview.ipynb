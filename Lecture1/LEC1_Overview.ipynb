{
 "cells": [
  {
   "cell_type": "markdown",
   "metadata": {
    "slideshow": {
     "slide_type": "slide"
    }
   },
   "source": [
    "# BIOEE 4940 : **Introduction to Quantitative Analysis in Ecology**\n",
    "### ***Spring 2021***\n",
    "### Instructor: **Xiangtao Xu** ( ✉️ xx286@cornell.edu)\n",
    "### Teaching Assistant: **Yanqiu (Autumn) Zhou** (✉️ yz399@cornell.edu)\n",
    "\n",
    "---\n",
    "\n",
    "## <span style=\"color:royalblue\">Lecture 1</span> *Welcome and Course Overview*"
   ]
  },
  {
   "cell_type": "markdown",
   "metadata": {
    "slideshow": {
     "slide_type": "slide"
    }
   },
   "source": [
    "### Introduction\n",
    "\n",
    "Welcome to BIOEE 4940 *Introduction to Quantitative Analysis in Ecology*.\n",
    "\n",
    "Some quick facts about me:\n",
    "\n",
    "- **Name**: Xu, Xiangtao (徐湘涛 in Chinese Characters, he/him/his)\n",
    "- **Affiliation**: Department of Ecology and Evolutionary Biology\n",
    "- **Academic Background**: Undergrad in Geography/Ecology (minor in Computer Science), Ph.D. in Geosciences, Post-doc in Ecology/Ecophysiology\n",
    "- **Research Keywords**: Plant Ecology, Global Change, Bioshpere Modeling, Ecological Remote Sensing\n",
    "- **Experience** in Quantitative Analysis: Statistical/Spatial/Timeseries Analyses in Matlab/Python/R. Terrestrial Biosphere Modeling/High-Performance Computing in Fortran/Shell. Learning Markdown and Julia"
   ]
  },
  {
   "cell_type": "markdown",
   "metadata": {},
   "source": [
    "Now, let's go around and have a quick intro in cluding a few key words for your research， your experiences in quantitative analysis, and your expectation on the course.\n",
    "\n",
    "| Name  | Keyword | Experience |\n",
    "|:---   | :----:  | ---: |\n",
    "| Xiangtao Xu   | Plant Ecology  | Python (main) / Matlab/R/Fortran. Regression/Modeling/Spatial/Timeseries |\n",
    "| Yanqiu Zhou   |  | |\n",
    "\n",
    "\n",
    "[comment]: ~10min?"
   ]
  },
  {
   "cell_type": "markdown",
   "metadata": {
    "slideshow": {
     "slide_type": "slide"
    }
   },
   "source": [
    "---\n",
    "### Quantitative Analysis in Ecology: Goals/Challenges/Opportunities\n",
    "* #### What is quantitative ecology?\n",
    "\n",
    "##### From wikipedia:\n",
    ">Quantitative ecology is the application of advanced mathematical and statistical tools to any number of problems in the field of ecology. It is a small but growing subfield in ecology, reflecting the demand among practicing ecologists to interpret ever larger and more complex data sets using quantitative reasoning. Quantitative ecologists might apply some combination of deterministic or stochastic mathematical models to theoretical questions or they might use sophisticated methods in applied statistics for experimental design and hypothesis testing. Typical problems in quantitative ecology include ***estimating*** the dynamics and status of wild populations, ***modeling*** the impacts of anthropogenic or climatic change on ecological communities, and ***predicting*** the spread of invasive species or disease outbreaks.\n",
    ">\n",
    ">Quantitative ecology, ***which mainly focuses on statistical and computational methods for addressing applied problems***, is distinct from theoretical ecology which tends to explore focus on understanding the dynamics of simple mechanistic models and their implications for a general set of biological systems using mathematical arguments.\n",
    "\n",
    "\n",
    "##### Key elements of quantitative analysis:\n",
    "\n",
    "1. Objectives - Ecological Question\n",
    "    \n",
    "    * Quantification\n",
    "        \n",
    "    * Hypothesis Testing\n",
    "        \n",
    "    * Prediction\n",
    "        \n",
    "2. Data\n",
    "\n",
    "    * Observations/Experiments/Model Outputs\n",
    "    \n",
    "    * **Known/potential Biases and Uncertainty**\n",
    "            \n",
    "3. Methods\n",
    "\n",
    "    * Statistical/Computational\n",
    "    \n",
    "    * Linear/Non-linear\n",
    "    \n",
    "    * ...\n",
    "    \n",
    "4. Interpretation\n",
    "\n",
    "    * Negative results\n",
    "    \n",
    "    * Residual analysis\n",
    "    \n",
    "    * Uncertainty/Robustness/Alternative Interpretation\n",
    "    \n",
    "    * Assumption and limitation\n",
    "    \n",
    "    * ...\n",
    "\n",
    "* Discussion:\n",
    "    * What are the common quantitative analyses you used in your research?\n",
    "    * What contribute to good/bad quantitative analyses?\n",
    "        > All happy families are alike; each unhappy family is unhappy in its own way.\n",
    "\n",
    "\n",
    "---"
   ]
  },
  {
   "cell_type": "markdown",
   "metadata": {
    "slideshow": {
     "slide_type": "slide"
    }
   },
   "source": [
    "    \n",
    "##### Example 1: How leaf maximum carboxylation rate changes with temperature. ([Slot & Winters 2017](http://doi.wiley.com/10.1111/pce.13071))\n",
    "\n",
    "<img src=\"./QE_example1_Vcmax.png\" alt=\"Example 1: How leaf photosynthetic potential changes with temperature; Slot et al. 2017 PCE\" style=\"width: 400px;\"/>\n",
    "\n",
    "##### Example 2: The global spectrum of plant form and function. ([Díaz et al. 2015](http://dx.doi.org/10.1038/nature16489))\n",
    "\n",
    "<img src=\"./QE_example2_plant_function_spectrum.png\" alt=\"the global spectrum of plant form and function. ([Díaz et al. 2015]\" style=\"width: 400px;\"/>\n",
    "\n",
    "##### Example 3: Fitting a hierarchical semi-mechanistic model to tree growth/mortality data ([Muller-Landau et al. 2006](http://doi.wiley.com/10.1111/j.1461-0248.2006.00904.x), [Camac et al. 2018](https://www.pnas.org/content/115/49/12459.short?rss=1))\n",
    "\n",
    "<img src=\"./QE_example3_tree_demographics.png\" alt=\"Fitting a hierarchical semi-mechanistic model to tree growth/mortality data\" style=\"width: 400px;\"/>\n",
    "\n",
    "##### Example 4: Inferring How basal area fraction of trees associated with Ecto-Mycorrhizae (EM) vary environmental factors using machine learning ([Steidinger et al. 2019](http://www.nature.com/articles/s41586-019-1128-0))\n",
    "\n",
    "<img src=\"./QE_example4_EM_abundance.png\" alt=\"Inferring How basal area fraction of trees associated with Ecto-Mycorrhizae (EM) vary environmental factors using machine learning\" style=\"width: 400px;\"/>\n",
    "\n",
    "##### Example 5: Predictions of land carbon uptake from process-based terrestrial biosphere models ([Friedlingstein et al. 2014](http://journals.ametsoc.org/doi/abs/10.1175/JCLI-D-12-00579.1))\n",
    "\n",
    "<img src=\"./QE_example5_TBM_predictions.png\" alt=\"Predictions of land carbon uptake from process-based terrestrial biosphere models\" style=\"width: 400px;\"/>\n",
    "\n",
    "---"
   ]
  },
  {
   "cell_type": "markdown",
   "metadata": {
    "slideshow": {
     "slide_type": "slide"
    }
   },
   "source": [
    "* #### Opportunities and challenges in quantitative *ecology* in the big-data era.\n",
    "\n",
    "Increasing data availability due to efficient and open data sharing (e.g. Evolution of TRY Plant Trait Database from 2009 to 2019 ([Kattge et al. 2019](https://doi.org/10.1111/gcb.14904)))\n",
    "\n",
    "<img src=\"./QE_TRY.png\" alt=\"Evolution of TRY Plant Trait Database from 2009 to 2019\" style=\"width: 400px;\"/>\n",
    "\n",
    "\n",
    "Increasing capacity of ground/drone/airborne/satellite remote sensing: \n",
    "\n",
    "<img src=\"./QE_schimel.png\" alt=\"Remote Sensing Data\" style=\"width: 400px;\"/>\n",
    "\n",
    "([Schimel et al. 2019](https://onlinelibrary.wiley.com/doi/abs/10.1111/nph.15934))\n",
    "\n",
    "Ground-based lidar measurments for trees and alligators ([Stovall et al. 2018](https://www.sciencedirect.com/science/article/pii/S0378112718304663) & [David Graves](https://www.linkedin.com/posts/dgraves242_hydrographicsurvey-activity-6753326803970007040-z2PR/))\n",
    "\n",
    "<img src=\"./QE_TLS.png\" alt=\"Remote Sensing Data\" style=\"width: 400px;\"/>\n",
    "\n",
    "\n",
    "\n",
    "Yet data with heterogenous formats and quality ([Farley et al. 2018](https://academic.oup.com/bioscience/article/68/8/563/5049569))\n",
    "\n",
    "<img src=\"./QE_big_data.png\" alt=\"Situating ecology as a big-data science\" style=\"width: 400px;\"/>\n",
    "\n",
    "\n",
    "Overfitting the 'big-data'\n",
    "\n",
    "<img src=\"./overfitting-comics.jpg\" alt=\"comics on overfitting\" style=\"width: 600px;\"/>\n",
    "\n",
    "\n",
    "\n",
    "\n",
    "\n",
    "\n",
    "\n",
    "\n",
    "\n",
    "\n",
    "\n",
    " \n",
    "\n"
   ]
  },
  {
   "cell_type": "markdown",
   "metadata": {
    "slideshow": {
     "slide_type": "slide"
    }
   },
   "source": [
    "---\n",
    "### Learning Objectives and Contents\n",
    "\n",
    "#### Learning Objectives:\n",
    "1. Explain and understand basic concepts and theory of common statistical/computational methods (motivation/assumption/pitfalls...)\n",
    "2. Hands-on experience of conducting common quantitative analysis (Statistical inference, Regression, Bayesian) in an ecological context.\n",
    "3. Get familiar with public ecological data (particuarly remote sensing) and basic data visualization techniques\n",
    "4. Designing and carrying out quantitative project (in the format of presentation and short report).\n",
    "\n",
    "\n",
    "#### Contents\n",
    "* ##### Section 1: Introduction and Overview \n",
    "\n",
    "    1.1. Introduction on ecological data analysis (today)\n",
    "\n",
    "    1.2. *Numerical Lab*: Access and visualization of ecological data in Jupyter Notebook\n",
    "\n",
    "* ##### Section 2: Know Your Data\n",
    "\n",
    "    2.1. How to describe your data \n",
    "        \n",
    "    2.2. Statistical inference and hypothesis testing \n",
    "    \n",
    "    2.3. *Numerical Lab*: Analyzing vegetation demography data in Costa Rica\n",
    "\n",
    "* ##### *Assignment 1*\n",
    "\n",
    "* ##### Section 3: Regression Models \n",
    "\n",
    "    3.1. Covariance, correlation, and regression\n",
    "        * Linear Model\n",
    "        * Discussion: Correlation and Causation\n",
    "\n",
    "    3.2. More complex regressions\n",
    "        * GLM/GAM?\n",
    "        * Hierarchical models\n",
    "        * Quantile regression\n",
    "        * Non-linear fit\n",
    "\n",
    "    3.3. Model selection and variable importance\n",
    "        * Information Criterion\n",
    "        * Regularization (Ridge/LASSO)\n",
    "\n",
    "    3.4. *Numerical Lab*: Inference of plant allometry using regression\n",
    "\n",
    "* ##### *Assignment 2*\n",
    "\n",
    "* ##### Section 4: Dealing with high-dimenional Data\n",
    "\n",
    "    4.1. High-dimensional data and dimension reduction\n",
    "    \n",
    "    4.2. Remote sensing data and spatio-temporal analysis\n",
    "        * Intro on remote sensing data\n",
    "        * Common analyses over RS data\n",
    "        * Learn to use Google Earth Engine\n",
    "        \n",
    "    4.3. *Numerical Lab*: Understanding dynamics of Beebe lake from high-resolution remote sensing\n",
    "\n",
    "* ##### *Assignment 3*\n",
    "\n",
    "* ##### Section 5: Optional Special Topics\n",
    "\n",
    "    5.1. Bayesian statistics and MCMC\n",
    "        * Basics of Bayesian statistics\n",
    "        * Re-do linear regression using Bayesian methods\n",
    "        * Inverse problems and MCMC\n",
    "\n",
    "    5.2. *Numerical Lab*: Inferring drivers of plant phenology using MCMC\n",
    "    \n",
    "    5.3. Computational and Data-driven Method (Machine-learning)\n",
    "    \n",
    "    5.4. *Numerical Lab*: Down-scaling vegetation biomass using machine learning\n",
    "    \n",
    "    5.5. Intro on ecosystem modeling\n",
    "\n",
    "* Final Project Presentation\n"
   ]
  },
  {
   "cell_type": "markdown",
   "metadata": {
    "slideshow": {
     "slide_type": "slide"
    }
   },
   "source": [
    "---\n",
    "### Grading and Logistics \n",
    "\n",
    "* ##### Office Hour:\n",
    "    Monday 10:55AM-11:30AM (right after Monday lectures)\n",
    "\n",
    "* ##### Grading\n",
    "    * 3 Assignments (45%)\n",
    "        \n",
    "      rubrics: \n",
    "          \n",
    "          Correct and complete results (number/figures, 95%)\n",
    "      \n",
    "          Visualization/coding sytle (5%)\n",
    "           \n",
    "    * Final Project (30%, discuss topics with me first)\n",
    "    \n",
    "      rubrics:\n",
    "          \n",
    "          Correct application of quantitative methods (50%)\n",
    "          \n",
    "          Reproducible report using Jupyter Notebook/R markdown (20%)\n",
    "          \n",
    "          15min Final presentation (20%)\n",
    "          \n",
    "          Interpretation of the results (10%)\n",
    "    \n",
    "    * Course participation and discussion (25%)\n",
    "    \n",
    "      rubrics:\n",
    "        \n",
    "          Get full points if participate in all lectures and (particularly) numerical labs\n",
    "            \n",
    "          Reasonable excuses (e.g. health issues, conflicts with field work) to miss classes will be considered.\n",
    "    \n",
    "    "
   ]
  },
  {
   "cell_type": "code",
   "execution_count": null,
   "metadata": {},
   "outputs": [],
   "source": []
  }
 ],
 "metadata": {
  "kernelspec": {
   "display_name": "Python 3",
   "language": "python",
   "name": "python3"
  },
  "language_info": {
   "codemirror_mode": {
    "name": "ipython",
    "version": 3
   },
   "file_extension": ".py",
   "mimetype": "text/x-python",
   "name": "python",
   "nbconvert_exporter": "python",
   "pygments_lexer": "ipython3",
   "version": "3.7.3"
  }
 },
 "nbformat": 4,
 "nbformat_minor": 4
}
