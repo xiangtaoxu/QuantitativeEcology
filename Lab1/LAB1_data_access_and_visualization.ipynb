{
 "cells": [
  {
   "cell_type": "markdown",
   "metadata": {
    "slideshow": {
     "slide_type": "slide"
    }
   },
   "source": [
    "# BIOEE 4940 : **Introduction to Quantitative Analysis in Ecology**\n",
    "### ***Spring 2021***\n",
    "### Instructor: **Xiangtao Xu** ( ✉️ xx286@cornell.edu)\n",
    "### Teaching Assistant: **Yanqiu (Autumn) Zhou** (✉️ yz399@cornell.edu)\n",
    "\n",
    "---\n",
    "\n",
    "## <span style=\"color:royalblue\">Lab 1</span> *Python Basics, I/O, and Visualization*\n",
    "*Partly adapted from [Earth and Environmental Data Science](https://earth-env-data-science.github.io/intro)*"
   ]
  },
  {
   "cell_type": "markdown",
   "metadata": {},
   "source": [
    "* Python is an interpreted, high-level and general-purpose programming language, first released in 1991 by Guido van Rossum.\n",
    "\n",
    "* R vs Python - an inaccurate comparison....\n",
    "  (read more [here](https://dev.to/daveparr/the-real-difference-tm-between-python-and-r-for-data-science-280i))\n",
    "\n",
    "<img src=\"https://res.cloudinary.com/practicaldev/image/fetch/s--ReZqX08z--/c_limit%2Cf_auto%2Cfl_progressive%2Cq_auto%2Cw_880/https://pbs.twimg.com/media/Ce8VP0FWIAI0ad2%3Fformat%3Djpg%26name%3Dsmall\" alt=\"R vs Python\" style=\"width: 600px;\"/>\n",
    "\n",
    "\n",
    "---"
   ]
  },
  {
   "cell_type": "markdown",
   "metadata": {},
   "source": [
    "### 1. Fundamentals of Python\n",
    "\n",
    "In this section, we will talk about some fundamental features of the Python language, including basic **data types, flow control, and mathematical operations**. Generally, these are also key aspects to quickly understand a programming langugage and its difference with other langugages. Some delicacies in the fundamentals might also lead to common bugs in your analyses.\n",
    "\n",
    "Currently, the majority of the science community uses Python 3 although you might encounter legacy codes written in Python 2 in your own research. Sometimes, you will run into errors when running Python 2 codes with Python 3 because there are several key changes in Python 3, such as:\n",
    "\n",
    "* `print` is a function\n",
    "* Integer division returns a float \n",
    "* Unicode is used for encoding code\n",
    "* ..."
   ]
  },
  {
   "cell_type": "markdown",
   "metadata": {},
   "source": [
    "**1.1. Numbers and Math**\n",
    "\n",
    "Numbers further include integers and floats (real numbers), which are stored differently in computer memory and might show different behaviors under mathematical and other operations.\n",
    "\n"
   ]
  },
  {
   "cell_type": "code",
   "execution_count": 1,
   "metadata": {},
   "outputs": [
    {
     "name": "stdout",
     "output_type": "stream",
     "text": [
      "<class 'int'>\n",
      "<class 'float'>\n"
     ]
    }
   ],
   "source": [
    "# comments are anything that comes after the \"#\" symbol\n",
    "a_int = 1 # assign an integer 1 to a_int\n",
    "a_float = 1. # assign a float 1 to a_float\n",
    "\n",
    "# python also support multiple destination variables when assigning values\n",
    "a_int, a_float = 1 , 1.\n",
    "\n",
    "# check their types\n",
    "print(type(a_int))\n",
    "print(type(a_float))"
   ]
  },
  {
   "cell_type": "markdown",
   "metadata": {},
   "source": [
    "Basic mathematical operations in python includes arithmetic and boolean logic."
   ]
  },
  {
   "cell_type": "code",
   "execution_count": 2,
   "metadata": {},
   "outputs": [
    {
     "name": "stdout",
     "output_type": "stream",
     "text": [
      "0.8\n"
     ]
    }
   ],
   "source": [
    "# addition / subtraction / multiplication / division\n",
    "\n",
    "print(1 + 1 - 2 * 3 / 5)\n"
   ]
  },
  {
   "cell_type": "markdown",
   "metadata": {},
   "source": [
    "Note that the results is a float although we only used integer. This is because **division in Python 3 by default returns a float**, while some other languages (e.g. C/Fortran) will truncate the fractions and return an integer, which can lead to bugs in your analysis"
   ]
  },
  {
   "cell_type": "code",
   "execution_count": 3,
   "metadata": {},
   "outputs": [
    {
     "name": "stdout",
     "output_type": "stream",
     "text": [
      "1024\n",
      "1.4142135623730951\n",
      "1.4142\n",
      "5\n",
      "1\n"
     ]
    }
   ],
   "source": [
    "## exponentiation\n",
    "\n",
    "print (2**10)\n",
    "print (2**0.5)\n",
    "\n",
    "## rounding\n",
    "\n",
    "print(round(2**0.5, 4))\n",
    "\n",
    "# modulo operation\n",
    "\n",
    "print(12 % 7)   # get the modulus\n",
    "print(12 // 7)  # get the integer\n",
    "\n"
   ]
  },
  {
   "cell_type": "code",
   "execution_count": 5,
   "metadata": {},
   "outputs": [
    {
     "name": "stdout",
     "output_type": "stream",
     "text": [
      "False\n",
      "True\n"
     ]
    }
   ],
   "source": [
    "# Logic and Boolean and relational operator\n",
    "\n",
    "is_weekday = True\n",
    "is_snow = False\n",
    "\n",
    "print(is_weekday and is_snow)\n",
    "print(is_weekday or is_snow)\n",
    "print(not (is_weekday and is_snow))\n",
    "print((not is_weekday) and is_snow) # try to use parenthesis whenever possible to improve readability"
   ]
  },
  {
   "cell_type": "code",
   "execution_count": 7,
   "metadata": {},
   "outputs": [
    {
     "name": "stdout",
     "output_type": "stream",
     "text": [
      "True\n",
      "True\n",
      "True\n",
      "False\n"
     ]
    }
   ],
   "source": [
    "# comparison of number values\n",
    "\n",
    "a = 5\n",
    "\n",
    "print(a > 1)\n",
    "print(a < 10.)\n",
    "print(a == 5)  # equal\n",
    "print(a != 5)  # not equal"
   ]
  },
  {
   "cell_type": "markdown",
   "metadata": {},
   "source": [
    "Try to avoid using `==` or `!=` for floats because there could be **numerical errors** after complex mathematical operations."
   ]
  },
  {
   "cell_type": "code",
   "execution_count": 9,
   "metadata": {},
   "outputs": [
    {
     "name": "stdout",
     "output_type": "stream",
     "text": [
      "5.000000000000083\n",
      "False\n",
      "True\n"
     ]
    }
   ],
   "source": [
    "# a simple example for numerical errors\n",
    "\n",
    "b = (5 ** 0.0001) ** 10000\n",
    "print(b)\n",
    "print(a == b)\n",
    "\n",
    "\n",
    "# instead compare whether the difference is small enough\n",
    "abs_tol = 1e-8 # another way to define floats using scientific notation\n",
    "print(abs(a - b) < abs_tol) # abs() returns the absolute value\n"
   ]
  },
  {
   "cell_type": "markdown",
   "metadata": {},
   "source": [
    "**1.2 Strings**\n",
    "\n",
    "Python has powerful supports for string operations that can comes very handy for dealing with text/character-based data (e.g. species names, genome sequences, qualitative data).\n",
    "\n",
    "Note that the indexing in python **starts from 0 and is left inclusive**."
   ]
  },
  {
   "cell_type": "code",
   "execution_count": 10,
   "metadata": {},
   "outputs": [
    {
     "name": "stdout",
     "output_type": "stream",
     "text": [
      "False\n"
     ]
    }
   ],
   "source": [
    "# string definition, use either \"\" or ''\n",
    "\n",
    "treatment_level = \"1\"\n",
    "print(type(treatment_level) is int)"
   ]
  },
  {
   "cell_type": "code",
   "execution_count": 11,
   "metadata": {},
   "outputs": [
    {
     "name": "stdout",
     "output_type": "stream",
     "text": [
      "\"Python bivittatus\"\n"
     ]
    }
   ],
   "source": [
    "burmese_python = \"\\\"Python bivittatus\\\"\"\n",
    "print(burmese_python)"
   ]
  },
  {
   "cell_type": "code",
   "execution_count": 12,
   "metadata": {},
   "outputs": [
    {
     "name": "stdout",
     "output_type": "stream",
     "text": [
      "\"\n",
      "19\n"
     ]
    }
   ],
   "source": [
    "# index starts from zero and is left inclusive\n",
    "print(burmese_python[0])\n",
    "name_length = len(burmese_python)\n",
    "print(name_length)"
   ]
  },
  {
   "cell_type": "code",
   "execution_count": 13,
   "metadata": {},
   "outputs": [
    {
     "name": "stdout",
     "output_type": "stream",
     "text": [
      "\"\n",
      "\"\n",
      "Python\n"
     ]
    }
   ],
   "source": [
    "print(burmese_python[name_length-1])\n",
    "print(burmese_python[-1])\n",
    "print(burmese_python[1:7])"
   ]
  },
  {
   "cell_type": "code",
   "execution_count": 14,
   "metadata": {},
   "outputs": [
    {
     "ename": "IndexError",
     "evalue": "string index out of range",
     "output_type": "error",
     "traceback": [
      "\u001b[0;31m---------------------------------------------------------------------------\u001b[0m",
      "\u001b[0;31mIndexError\u001b[0m                                Traceback (most recent call last)",
      "\u001b[0;32m<ipython-input-14-c86ed2696dc4>\u001b[0m in \u001b[0;36m<module>\u001b[0;34m\u001b[0m\n\u001b[1;32m      1\u001b[0m \u001b[0;31m# this one will throw out an error\u001b[0m\u001b[0;34m\u001b[0m\u001b[0;34m\u001b[0m\u001b[0;34m\u001b[0m\u001b[0m\n\u001b[0;32m----> 2\u001b[0;31m \u001b[0mprint\u001b[0m\u001b[0;34m(\u001b[0m\u001b[0mburmese_python\u001b[0m\u001b[0;34m[\u001b[0m\u001b[0mname_length\u001b[0m\u001b[0;34m]\u001b[0m\u001b[0;34m)\u001b[0m\u001b[0;34m\u001b[0m\u001b[0;34m\u001b[0m\u001b[0m\n\u001b[0m",
      "\u001b[0;31mIndexError\u001b[0m: string index out of range"
     ]
    }
   ],
   "source": [
    "# this one will throw out an error\n",
    "print(burmese_python[name_length])"
   ]
  },
  {
   "cell_type": "markdown",
   "metadata": {},
   "source": [
    "String is a built-in class in python, which has various useful class methods. See [here](https://docs.python.org/2.5/lib/string-methods.html) for more. Here I list a few examples."
   ]
  },
  {
   "cell_type": "code",
   "execution_count": 17,
   "metadata": {},
   "outputs": [
    {
     "name": "stdout",
     "output_type": "stream",
     "text": [
      "QUERCUS RUBRA,QUERCUS ALBA,QUERCUS VELUTINA\n"
     ]
    }
   ],
   "source": [
    "# use \"\"\" for long strings\n",
    "oaks = \"\"\"Quercus rubra,Quercus alba,Quercus velutina\"\"\"\n",
    "\n",
    "# capitalize, use tab to auto-complete the command in jupyter notebook\n",
    "print(oaks.upper())"
   ]
  },
  {
   "cell_type": "code",
   "execution_count": 19,
   "metadata": {},
   "outputs": [
    {
     "name": "stdout",
     "output_type": "stream",
     "text": [
      "['Quercus rubra,Quercus alba,Quercus velutina']\n"
     ]
    }
   ],
   "source": [
    "# split\n",
    "print(oaks.split(',')) # returns a list contains all the substrings"
   ]
  },
  {
   "cell_type": "code",
   "execution_count": 20,
   "metadata": {},
   "outputs": [
    {
     "name": "stdout",
     "output_type": "stream",
     "text": [
      "Quercus rubra is the scientific name of red oak\n"
     ]
    }
   ],
   "source": [
    "# join\n",
    "print(' '.join(['Quercus','rubra','is','the','scientific','name','of','red','oak']))"
   ]
  },
  {
   "cell_type": "code",
   "execution_count": 21,
   "metadata": {},
   "outputs": [
    {
     "name": "stdout",
     "output_type": "stream",
     "text": [
      "14\n"
     ]
    }
   ],
   "source": [
    "# find the second occurance of a sub-string\n",
    "print(oaks.find(\"Quercus\",2))"
   ]
  },
  {
   "cell_type": "code",
   "execution_count": 23,
   "metadata": {},
   "outputs": [
    {
     "name": "stdout",
     "output_type": "stream",
     "text": [
      "Quercus coccinea,Quercus alba,Quercus velutina\n",
      "\n",
      "original oaks:\n",
      " Quercus rubra,Quercus alba,Quercus velutina \n",
      "\n",
      "Quercus coccinea,Quercus alba,Quercus velutina\n"
     ]
    }
   ],
   "source": [
    "# replace (does not change the original string)\n",
    "print(oaks.replace(\"rubra\",\"coccinea\"))\n",
    "print('\\noriginal oaks:\\n',oaks,'\\n')\n",
    "new_oaks = oaks.replace(\"rubra\",\"coccinea\")\n",
    "print(new_oaks)"
   ]
  },
  {
   "cell_type": "code",
   "execution_count": 25,
   "metadata": {},
   "outputs": [
    {
     "name": "stdout",
     "output_type": "stream",
     "text": [
      "duplicate myself duplicate myself duplicate myself duplicate myself duplicate myself \n",
      "--------------------\n"
     ]
    }
   ],
   "source": [
    "# String math operations\n",
    "print((\"duplicate\" + \" \" + \"myself \") * 5) # multiplication with positive integers\n",
    "print('-'*20)"
   ]
  },
  {
   "cell_type": "markdown",
   "metadata": {},
   "source": [
    "Strings can be converted from or into other numerical data types"
   ]
  },
  {
   "cell_type": "code",
   "execution_count": 26,
   "metadata": {},
   "outputs": [
    {
     "name": "stdout",
     "output_type": "stream",
     "text": [
      "1\n",
      "1.0\n"
     ]
    }
   ],
   "source": [
    "# string to numbers\n",
    "num_str = '1'\n",
    "print(int(num_str))\n",
    "print(float(num_str))"
   ]
  },
  {
   "cell_type": "code",
   "execution_count": 27,
   "metadata": {},
   "outputs": [
    {
     "name": "stdout",
     "output_type": "stream",
     "text": [
      "the value of π is 3.1415926\n"
     ]
    }
   ],
   "source": [
    "# numbers to string, check https://realpython.com/python-f-strings/ and https://pyformat.info/ for more details and tricks\n",
    "\n",
    "pi_val = 3.1415926\n",
    "print(f'the value of \\u03C0 is {pi_val}')"
   ]
  },
  {
   "cell_type": "code",
   "execution_count": 33,
   "metadata": {},
   "outputs": [
    {
     "name": "stdout",
     "output_type": "stream",
     "text": [
      "the value of π is 3.14 not 3.000000\n"
     ]
    }
   ],
   "source": [
    "# formatting floating numbers\n",
    "# L.Sf where L indicates the total length of the final string\n",
    "# S indicates the number of digits\n",
    "a = 3\n",
    "print(f'the value of \\u03C0 is {pi_val:4.2f} not {a:f}')"
   ]
  },
  {
   "cell_type": "code",
   "execution_count": 34,
   "metadata": {},
   "outputs": [
    {
     "name": "stdout",
     "output_type": "stream",
     "text": [
      "1.235e+07\n"
     ]
    }
   ],
   "source": [
    "# formatting floating numbers into scientific notations\n",
    "print(f'{12345678:5.3e}')"
   ]
  },
  {
   "cell_type": "code",
   "execution_count": 37,
   "metadata": {},
   "outputs": [
    {
     "name": "stdout",
     "output_type": "stream",
     "text": [
      "Today is 2021-02-10\n"
     ]
    }
   ],
   "source": [
    "year, month, day = 2021, 2, 10\n",
    "print(f'Today is {year:4d}-{month:02d}-{day:02d}') # formatting the integers, 02 means to use 0 for padding"
   ]
  },
  {
   "cell_type": "markdown",
   "metadata": {},
   "source": [
    "**1.3 Lists and Loops**\n",
    "\n",
    "List is the built-in structures to represent arrays, which can host heterogenous data types"
   ]
  },
  {
   "cell_type": "code",
   "execution_count": 1,
   "metadata": {},
   "outputs": [
    {
     "name": "stdout",
     "output_type": "stream",
     "text": [
      "['Quercus rubra', 'Quercus alba', 'Quercus velutina']\n"
     ]
    }
   ],
   "source": [
    "oaks = \"\"\"Quercus rubra\n",
    "Quercus alba\n",
    "Quercus velutina\"\"\"\n",
    "oak_list = oaks.split('\\n')\n",
    "print(oak_list)"
   ]
  },
  {
   "cell_type": "code",
   "execution_count": 2,
   "metadata": {},
   "outputs": [
    {
     "name": "stdout",
     "output_type": "stream",
     "text": [
      "['Quercus rubra', 'Quercus alba', 'Quercus velutina', 1]\n"
     ]
    }
   ],
   "source": [
    "# append an element\n",
    "oak_list.append(1)\n",
    "print(oak_list)"
   ]
  },
  {
   "cell_type": "code",
   "execution_count": 40,
   "metadata": {},
   "outputs": [
    {
     "name": "stdout",
     "output_type": "stream",
     "text": [
      "['Quercus rubra', 'Quercus alba', 'Quercus velutina']\n"
     ]
    }
   ],
   "source": [
    "# pop the last element\n",
    "oak_list.pop()\n",
    "print(oak_list)"
   ]
  },
  {
   "cell_type": "code",
   "execution_count": 41,
   "metadata": {},
   "outputs": [
    {
     "name": "stdout",
     "output_type": "stream",
     "text": [
      "['Quercus alba', 'Quercus rubra', 'Quercus velutina']\n"
     ]
    }
   ],
   "source": [
    "# sort the list\n",
    "oak_list.sort()\n",
    "print(oak_list)"
   ]
  },
  {
   "cell_type": "code",
   "execution_count": 43,
   "metadata": {},
   "outputs": [
    {
     "name": "stdout",
     "output_type": "stream",
     "text": [
      "Quercus alba\n",
      "Quercus rubra\n",
      "Quercus velutina\n"
     ]
    }
   ],
   "source": [
    "# Different methods loop over the elements of the list\n",
    "for oak in oak_list:\n",
    "    print(oak)"
   ]
  },
  {
   "cell_type": "code",
   "execution_count": 44,
   "metadata": {},
   "outputs": [
    {
     "name": "stdout",
     "output_type": "stream",
     "text": [
      "Quercus alba\n",
      "Quercus rubra\n",
      "Quercus velutina\n"
     ]
    }
   ],
   "source": [
    "# use index\n",
    "oak_num = len(oak_list)\n",
    "for i in range(oak_num):\n",
    "    print(oak_list[i])"
   ]
  },
  {
   "cell_type": "code",
   "execution_count": 45,
   "metadata": {},
   "outputs": [
    {
     "name": "stdout",
     "output_type": "stream",
     "text": [
      "0 Quercus alba\n",
      "1 Quercus rubra\n",
      "2 Quercus velutina\n",
      "0 Quercus alba\n",
      "1 Quercus rubra\n",
      "2 Quercus velutina\n"
     ]
    }
   ],
   "source": [
    "# use enumerate\n",
    "for i, oak in enumerate(oak_list):\n",
    "    print(i,oak)\n",
    "    \n",
    "# enumerate is equivalent to\n",
    "for i, oak in zip(range(len(oak_list)),oak_list):\n",
    "    print(i,oak)\n",
    "\n",
    "# enumerate function can be very handy to get access to both index and contents at the same time"
   ]
  },
  {
   "cell_type": "code",
   "execution_count": null,
   "metadata": {},
   "outputs": [],
   "source": [
    "# while loop\n",
    "i = 0\n",
    "while i < len(oak_list):\n",
    "    print(oak_list[i])\n",
    "    i = i+1"
   ]
  },
  {
   "cell_type": "code",
   "execution_count": 46,
   "metadata": {},
   "outputs": [
    {
     "name": "stdout",
     "output_type": "stream",
     "text": [
      "['Quercus alba', 'Quercus rubra', 'Quercus velutina', 'Acer saccharum', 'Acer rubrum', 'Acer platanoides']\n"
     ]
    }
   ],
   "source": [
    "# conditionals and flow control (break/continue)\n",
    "\n",
    "maple_list=['Acer saccharum','Acer rubrum','Acer platanoides']\n",
    "\n",
    "\n",
    "tree_list = oak_list + maple_list # + can also operate on list!\n",
    "\n",
    "print(tree_list)"
   ]
  },
  {
   "cell_type": "code",
   "execution_count": 47,
   "metadata": {},
   "outputs": [
    {
     "name": "stdout",
     "output_type": "stream",
     "text": [
      "3 Acer saccharum\n"
     ]
    }
   ],
   "source": [
    "for i, tree in enumerate(tree_list):\n",
    "    if tree.split(' ')[0] == 'Quercus':\n",
    "        continue # skip oaks\n",
    "    \n",
    "    if tree == 'Acer rubrum':\n",
    "        break # break out of the loop when encountering red maple\n",
    "    \n",
    "    print(i,tree)\n",
    "    \n",
    "    \n",
    "    "
   ]
  },
  {
   "cell_type": "code",
   "execution_count": 52,
   "metadata": {},
   "outputs": [
    {
     "name": "stdout",
     "output_type": "stream",
     "text": [
      "[0, 1, 4, 9, 16, 25, 36, 49, 64, 81]\n"
     ]
    }
   ],
   "source": [
    "# python has lots of tricks for working with lists\n",
    "\n",
    "# list comprehension\n",
    "squares = [n**2 for n in range(10)]\n",
    "print(squares)\n",
    "\n",
    "squares = []\n",
    "for i in range(10):\n",
    "    squares.append(i**2)\n",
    "    \n",
    "squares = np.zeros((10,))\n",
    "for i in range(10):\n",
    "    squares[i] = i**2\n"
   ]
  },
  {
   "cell_type": "code",
   "execution_count": 49,
   "metadata": {},
   "outputs": [
    {
     "name": "stdout",
     "output_type": "stream",
     "text": [
      "['QUERCUS alba', 'QUERCUS rubra', 'QUERCUS velutina', 'ACER saccharum', 'ACER rubrum', 'ACER platanoides']\n"
     ]
    }
   ],
   "source": [
    "Cap_Genus_list = [tree.split(' ')[0].upper()+' '+tree.split(' ')[1] for tree in tree_list]\n",
    "print(Cap_Genus_list)"
   ]
  },
  {
   "cell_type": "markdown",
   "metadata": {},
   "source": [
    "**1.4 Tuples and Dictionaries**\n",
    "\n",
    "Tuples are similar to lists, but they are ***immutable*** - they can not be extended or modified. So it is *safe* structure to pack together heterogeneous data that you do not want to change (e.g. results of a function)."
   ]
  },
  {
   "cell_type": "code",
   "execution_count": 53,
   "metadata": {},
   "outputs": [
    {
     "name": "stdout",
     "output_type": "stream",
     "text": [
      "('Quercus', 'rubrum', 15.0, True)\n",
      "rubrum\n",
      "Quercus rubrum 15.0 True\n"
     ]
    },
    {
     "ename": "TypeError",
     "evalue": "'tuple' object does not support item assignment",
     "output_type": "error",
     "traceback": [
      "\u001b[0;31m---------------------------------------------------------------------------\u001b[0m",
      "\u001b[0;31mTypeError\u001b[0m                                 Traceback (most recent call last)",
      "\u001b[0;32m<ipython-input-53-6bffff7ff611>\u001b[0m in \u001b[0;36m<module>\u001b[0;34m\u001b[0m\n\u001b[1;32m     10\u001b[0m \u001b[0mprint\u001b[0m\u001b[0;34m(\u001b[0m\u001b[0ma\u001b[0m\u001b[0;34m,\u001b[0m\u001b[0mb\u001b[0m\u001b[0;34m,\u001b[0m\u001b[0mc\u001b[0m\u001b[0;34m,\u001b[0m\u001b[0md\u001b[0m\u001b[0;34m)\u001b[0m\u001b[0;34m\u001b[0m\u001b[0;34m\u001b[0m\u001b[0m\n\u001b[1;32m     11\u001b[0m \u001b[0;34m\u001b[0m\u001b[0m\n\u001b[0;32m---> 12\u001b[0;31m \u001b[0mtree\u001b[0m\u001b[0;34m[\u001b[0m\u001b[0;36m2\u001b[0m\u001b[0;34m]\u001b[0m \u001b[0;34m=\u001b[0m \u001b[0;36m20.\u001b[0m \u001b[0;31m# error\u001b[0m\u001b[0;34m\u001b[0m\u001b[0;34m\u001b[0m\u001b[0m\n\u001b[0m",
      "\u001b[0;31mTypeError\u001b[0m: 'tuple' object does not support item assignment"
     ]
    }
   ],
   "source": [
    "genus='Quercus'\n",
    "species='rubrum'\n",
    "diameter=15.\n",
    "is_alive=True\n",
    "tree = (genus,species,diameter,is_alive)\n",
    "print(tree)\n",
    "print(tree[1]) # can be indexed like arrays\n",
    "\n",
    "a,b,c,d = tree # can be unpacked\n",
    "print(a,b,c,d)\n",
    "\n",
    "tree[2] = 20. # error"
   ]
  },
  {
   "cell_type": "markdown",
   "metadata": {},
   "source": [
    "Dictionaries are useful ***unordered*** structure to map **keys** to **values**"
   ]
  },
  {
   "cell_type": "code",
   "execution_count": 54,
   "metadata": {},
   "outputs": [
    {
     "name": "stdout",
     "output_type": "stream",
     "text": [
      "{'genus': 'Quercus', 'species': 'rubrum', 'diameter': 15.0, 'is_alive': True}\n"
     ]
    }
   ],
   "source": [
    "tree_dict = {'genus' : 'Quercus',\n",
    "             'species' : 'rubrum',\n",
    "             'diameter' : 15.,\n",
    "             'is_alive' : True}\n",
    "print(tree_dict)"
   ]
  },
  {
   "cell_type": "code",
   "execution_count": 55,
   "metadata": {},
   "outputs": [
    {
     "name": "stdout",
     "output_type": "stream",
     "text": [
      "{'genus': 'Quercus', 'species': 'rubrum', 'diameter': 15.0, 'is_alive': True}\n"
     ]
    }
   ],
   "source": [
    "# OR\n",
    "tree_dict={} # initialize an empty dictionary using {}\n",
    "tree_dict['genus'] = 'Quercus'\n",
    "tree_dict['species'] = 'rubrum'\n",
    "tree_dict['diameter'] = 15.\n",
    "tree_dict['is_alive'] = True\n",
    "\n",
    "print(tree_dict)"
   ]
  },
  {
   "cell_type": "code",
   "execution_count": 56,
   "metadata": {},
   "outputs": [
    {
     "name": "stdout",
     "output_type": "stream",
     "text": [
      "False\n",
      "True\n"
     ]
    }
   ],
   "source": [
    "print('age' in tree_dict.keys())\n",
    "print('diameter' in tree_dict.keys())"
   ]
  },
  {
   "cell_type": "code",
   "execution_count": 57,
   "metadata": {},
   "outputs": [
    {
     "name": "stdout",
     "output_type": "stream",
     "text": [
      "genus Quercus\n",
      "species rubrum\n",
      "diameter 15.0\n",
      "is_alive True\n"
     ]
    }
   ],
   "source": [
    "for key, val in tree_dict.items():\n",
    "    print(key,val)"
   ]
  },
  {
   "cell_type": "markdown",
   "metadata": {},
   "source": [
    "### Challenge 1: Convert date string to decimal year"
   ]
  },
  {
   "cell_type": "code",
   "execution_count": 58,
   "metadata": {},
   "outputs": [
    {
     "name": "stdout",
     "output_type": "stream",
     "text": [
      "2021.1123287671232\n"
     ]
    }
   ],
   "source": [
    "date_str=\"2021-Feb-10\"\n",
    "\n",
    "month_days = [31,28,31,30,31,30,31,31,30,31,30,31]\n",
    "month_dict = {\n",
    "    'Jan' : 1,\n",
    "    'Feb' : 2,\n",
    "    'Mar' : 3,\n",
    "}\n",
    "\n",
    "date_str_split = date_str.split('-')\n",
    "year = int(date_str_split[0])\n",
    "month_day = sum(month_days[0:month_dict[date_str_split[1]]-1])\n",
    "day = int(date_str_split[2])\n",
    "\n",
    "print(year + (month_day + day) / sum(month_days))\n",
    "\n",
    "\n"
   ]
  },
  {
   "cell_type": "markdown",
   "metadata": {},
   "source": [
    "---\n",
    "### 2. Numpy and Functions\n",
    "\n",
    "Numpy is one of the most fundamental parts of the python \"ecosystem\" for science. Lots of packages are built on top of it.\n",
    "\n",
    "Numpy includes support for large, multi-dimensional arrays and matrices, along with a large collection of high-level mathematical functions."
   ]
  },
  {
   "cell_type": "code",
   "execution_count": 1,
   "metadata": {},
   "outputs": [],
   "source": [
    "# import the package, similar to library command in R\n",
    "import numpy as np  # notate the namespace to more specifically call numpy functions"
   ]
  },
  {
   "cell_type": "code",
   "execution_count": null,
   "metadata": {},
   "outputs": [],
   "source": [
    "arr = np.array([11.,12.5, 5.,7.])\n",
    "print(arr.dtype)\n",
    "print(arr.shape)\n"
   ]
  },
  {
   "cell_type": "code",
   "execution_count": null,
   "metadata": {},
   "outputs": [],
   "source": [
    "arr = np.array([[1,2,3],[4,5,6]])\n",
    "print(arr.dtype)\n",
    "print(arr.shape)\n",
    "print(arr)\n",
    "\n",
    "# note that python's matrix is column-first (c-style)\n",
    "# elements in the last column are stored next to each other in the memory\n",
    "# so any operation that manipulate the last column will be more efficient \n",
    "# than operating the first column\n",
    "print(arr.ravel()) # ravel to one dimensional array\n"
   ]
  },
  {
   "cell_type": "code",
   "execution_count": 61,
   "metadata": {},
   "outputs": [
    {
     "name": "stdout",
     "output_type": "stream",
     "text": [
      "[1.   1.25 1.5  1.75]\n",
      "[1.   1.25 1.5  1.75 2.  ]\n",
      "[ 10.          17.7827941   31.6227766   56.23413252 100.        ]\n"
     ]
    }
   ],
   "source": [
    "# useful commands to generate data/index\n",
    "\n",
    "print(np.arange(1.,2.,0.25)) # left inclusive\n",
    "print(np.linspace(1.,2.,5)) # left and right inclusive\n",
    "print(np.logspace(1.,2.,5)) # default has a 10-base"
   ]
  },
  {
   "cell_type": "code",
   "execution_count": null,
   "metadata": {},
   "outputs": [],
   "source": [
    "# matric creation\n",
    "print(np.zeros((3,3))) # 3-by-3 zero matrix\n",
    "print(np.ones((4,4))) # 4-by-4 unity matrix\n",
    "print(np.diag(np.arange(4))) # diagonal matrix"
   ]
  },
  {
   "cell_type": "code",
   "execution_count": 62,
   "metadata": {},
   "outputs": [
    {
     "name": "stdout",
     "output_type": "stream",
     "text": [
      "(21, 11) (21, 11)\n",
      "[[20. 21. 22. 23. 24. 25. 26. 27. 28. 29. 30.]\n",
      " [20. 21. 22. 23. 24. 25. 26. 27. 28. 29. 30.]\n",
      " [20. 21. 22. 23. 24. 25. 26. 27. 28. 29. 30.]\n",
      " [20. 21. 22. 23. 24. 25. 26. 27. 28. 29. 30.]\n",
      " [20. 21. 22. 23. 24. 25. 26. 27. 28. 29. 30.]\n",
      " [20. 21. 22. 23. 24. 25. 26. 27. 28. 29. 30.]\n",
      " [20. 21. 22. 23. 24. 25. 26. 27. 28. 29. 30.]\n",
      " [20. 21. 22. 23. 24. 25. 26. 27. 28. 29. 30.]\n",
      " [20. 21. 22. 23. 24. 25. 26. 27. 28. 29. 30.]\n",
      " [20. 21. 22. 23. 24. 25. 26. 27. 28. 29. 30.]\n",
      " [20. 21. 22. 23. 24. 25. 26. 27. 28. 29. 30.]\n",
      " [20. 21. 22. 23. 24. 25. 26. 27. 28. 29. 30.]\n",
      " [20. 21. 22. 23. 24. 25. 26. 27. 28. 29. 30.]\n",
      " [20. 21. 22. 23. 24. 25. 26. 27. 28. 29. 30.]\n",
      " [20. 21. 22. 23. 24. 25. 26. 27. 28. 29. 30.]\n",
      " [20. 21. 22. 23. 24. 25. 26. 27. 28. 29. 30.]\n",
      " [20. 21. 22. 23. 24. 25. 26. 27. 28. 29. 30.]\n",
      " [20. 21. 22. 23. 24. 25. 26. 27. 28. 29. 30.]\n",
      " [20. 21. 22. 23. 24. 25. 26. 27. 28. 29. 30.]\n",
      " [20. 21. 22. 23. 24. 25. 26. 27. 28. 29. 30.]\n",
      " [20. 21. 22. 23. 24. 25. 26. 27. 28. 29. 30.]]\n"
     ]
    }
   ],
   "source": [
    "lon = np.linspace(-100,-80,21)\n",
    "lat = np.linspace(20,30,11)\n",
    "\n",
    "xx,yy = np.meshgrid(lat,lon) # useful for plotting spatial maps\n",
    "print(xx.shape,yy.shape)\n",
    "print(xx)"
   ]
  },
  {
   "cell_type": "markdown",
   "metadata": {},
   "source": [
    "Lots of array operations in numpy are available. All the familiar arithmetic operators are applied on an element-by-element basis"
   ]
  },
  {
   "cell_type": "code",
   "execution_count": null,
   "metadata": {},
   "outputs": [],
   "source": [
    "abundance_mat = np.random.random(xx.shape) \n",
    "# generate a [0,1) random matrix with the same shape as xx\n",
    "print(abundance_mat)"
   ]
  },
  {
   "cell_type": "code",
   "execution_count": null,
   "metadata": {},
   "outputs": [],
   "source": [
    "print(abundance_mat > 0.1) # places with abudnance larger than 0.1\n",
    "print(sum((abundance_mat > 0.1).ravel())) # total number of elements with abundance larger than 0.1\n",
    "print(sum((abundance_mat > 0.1).ravel()) / len(abundance_mat.ravel())) # should be close to 0.9"
   ]
  },
  {
   "cell_type": "code",
   "execution_count": 63,
   "metadata": {},
   "outputs": [
    {
     "name": "stdout",
     "output_type": "stream",
     "text": [
      "257 µs ± 84.7 µs per loop (mean ± std. dev. of 7 runs, 1000 loops each)\n",
      "3.13 µs ± 494 ns per loop (mean ± std. dev. of 7 runs, 100000 loops each)\n"
     ]
    }
   ],
   "source": [
    "# numpy is efficient in matrix manipulation\n",
    "# let's use a dot product as an example\n",
    "\n",
    "# define a function to do dot product ourselves\n",
    "def my_dot_prod(A,B):\n",
    "    '''\n",
    "        This is documentation for a function\n",
    "    '''\n",
    "    \n",
    "    C = np.zeros_like(A)\n",
    "    \n",
    "    length = len(C.ravel())\n",
    "    \n",
    "    for i in range(length):\n",
    "        C[i] = A[i] * B[i]\n",
    "        \n",
    "    return C\n",
    "\n",
    "# use numpy dot product\n",
    "def numpy_prod(A,B):\n",
    "    \n",
    "    return A * B\n",
    "\n",
    "\n",
    "# lets check their performance\n",
    "A = np.random.random(100)\n",
    "B = np.random.random(100)\n",
    "\n",
    "%timeit my_dot_prod(A,B)\n",
    "\n",
    "%timeit numpy_prod(A,B)\n",
    "    "
   ]
  },
  {
   "cell_type": "markdown",
   "metadata": {},
   "source": [
    "Note that values of numeric variables changed in fuctions will not be kept but values of lists/matrices changed in python functions will be kept."
   ]
  },
  {
   "cell_type": "code",
   "execution_count": null,
   "metadata": {},
   "outputs": [],
   "source": [
    "def modify_values(a):\n",
    "    a = 1\n",
    "    b = 1\n",
    "    print(f'in function a,b = {a}, {b}')\n",
    "    return (a,b)\n",
    "\n",
    "a, b = 0, 0\n",
    "new_a,new_b = modify_values(a)\n",
    "\n",
    "print(f'after function a,b = {a}, {b}')\n",
    "print(f'after function new_a,new_b = {new_a}, {new_b}')\n"
   ]
  },
  {
   "cell_type": "code",
   "execution_count": null,
   "metadata": {},
   "outputs": [],
   "source": [
    "# note that values of lists/matrices changed in python functions will be kept\n",
    "\n",
    "\n",
    "def modify_list(A,B):\n",
    "    A.append('new_element')\n",
    "    B[0] = 1.\n",
    "    return\n",
    "\n",
    "A = []\n",
    "B = np.arange(5)\n",
    "modify_list(A,B)\n",
    "print(A)\n",
    "print(B)\n",
    "\n"
   ]
  },
  {
   "cell_type": "markdown",
   "metadata": {},
   "source": [
    "### Challenge 2. Function to account for metabolic temperature sensitivity.\n",
    "Various metabolic processes are sensitive to temperature due to changes in enzymatic activities. A simple quantitative descritpion of such temperature senstivity is through Q10 (qotient every 10 degree Celcius):\n",
    "\n",
    "$X = X_0\\times Q_{10}^{\\frac{T-T_0}{10}}$ \n",
    "\n",
    "Write a function to calculate X for input T array given a tuple containing $X_0$, $T_0$, and $Q_{10}$.\n",
    "\n",
    "What if X saturates after a certain optimal temperature $T_{opt}$? (i.e., $X(T) = X(T_{opt})$ when $T > T_{opt}$)"
   ]
  },
  {
   "cell_type": "code",
   "execution_count": null,
   "metadata": {},
   "outputs": [],
   "source": [
    "params = (10.5,25.,2.) # X_0, T_0, and Q_10\n",
    "T_opt = 35."
   ]
  },
  {
   "cell_type": "markdown",
   "metadata": {},
   "source": [
    "---\n",
    "### 3. Pandas, Matplotlib, and Cartopy\n",
    "\n",
    "[Pandas](https://pandas.pydata.org/) is an open source library providing high-performance, easy-to-use data structures and data analysis. It organizes data similarly to R dataframes and is particularly suited to tabular data (e.g. data in excel spreadsheet/csv files)\n",
    "\n",
    "[Matplotlib](https://matplotlib.org/) is the backbone of data visualization in python.\n",
    "\n",
    "[Cartopy](https://scitools.org.uk/cartopy/docs/latest/) is the package designed for geospatial data analysis and visualization"
   ]
  },
  {
   "cell_type": "code",
   "execution_count": 2,
   "metadata": {},
   "outputs": [
    {
     "name": "stdout",
     "output_type": "stream",
     "text": [
      "QR1    15.5\n",
      "QR2     5.5\n",
      "QA1    20.5\n",
      "QA2    30.0\n",
      "AR1    55.0\n",
      "AR2    65.0\n",
      "dtype: float64\n"
     ]
    }
   ],
   "source": [
    "import pandas as pd\n",
    "\n",
    "# the basic structure is Series - one-dimensional array with index.\n",
    "\n",
    "Tree_ID = ['QR1','QR2','QA1','QA2','AR1','AR2']\n",
    "diameter = [15.5,5.5,20.5,30.,55.,65.]\n",
    "\n",
    "d_series = pd.Series(diameter,index=Tree_ID)\n",
    "print(d_series)\n"
   ]
  },
  {
   "cell_type": "code",
   "execution_count": 3,
   "metadata": {},
   "outputs": [],
   "source": [
    "from matplotlib import pyplot as plt # import matplotlib\n",
    "# allow for inline plotting in jupyter notebook\n",
    "%matplotlib inline "
   ]
  },
  {
   "cell_type": "code",
   "execution_count": 5,
   "metadata": {},
   "outputs": [
    {
     "data": {
      "image/png": "[encoded data removed]",
      "text/plain": [
       "<Figure size 216x288 with 1 Axes>"
      ]
     },
     "metadata": {
      "needs_background": "light"
     },
     "output_type": "display_data"
    }
   ],
   "source": [
    "fig = plt.figure(figsize=(3,4)) # figsize in inches\n",
    "axis_handle = d_series.plot(kind='bar')\n",
    "# or d_series.plot.bar()\n"
   ]
  },
  {
   "cell_type": "markdown",
   "metadata": {},
   "source": [
    "**Indexing**\n",
    "We can get values using .loc attribute"
   ]
  },
  {
   "cell_type": "code",
   "execution_count": null,
   "metadata": {},
   "outputs": [],
   "source": [
    "print(d_series.loc[['QR1','QA1']]) # use index\n",
    "print(d_series.iloc[[0,2]]) # use raw position"
   ]
  },
  {
   "cell_type": "markdown",
   "metadata": {},
   "source": [
    "**DataFrame**\n",
    "equivalent to a table in a spreadsheet"
   ]
  },
  {
   "cell_type": "code",
   "execution_count": null,
   "metadata": {},
   "outputs": [],
   "source": [
    "# assume we know the allometric equation to convert tree diameter to tree height\n",
    "tree_height = np.exp(1.0 + 0.5 * np.log(d_series.values))\n",
    "\n",
    "# add tree species\n",
    "species_dict = {'QA' : 'Quercus Alba',\n",
    "                'QR' : 'Quercus Rubrum',\n",
    "                'AR' : 'Acer Rubrum'}\n",
    "\n",
    "tree_species = [species_dict[tree_index[0:2]] for tree_index in d_series.index]\n",
    "\n",
    "# create a datafrome from a dictionary\n",
    "data = {'Species' : tree_species,\n",
    "        'Diameter' : d_series.values,\n",
    "        'Height' : tree_height}\n",
    "\n",
    "df = pd.DataFrame(data,index=Tree_ID)\n",
    "print(df)\n"
   ]
  },
  {
   "cell_type": "code",
   "execution_count": null,
   "metadata": {},
   "outputs": [],
   "source": [
    "df.info()"
   ]
  },
  {
   "cell_type": "code",
   "execution_count": null,
   "metadata": {},
   "outputs": [],
   "source": [
    "df.head(2)"
   ]
  },
  {
   "cell_type": "code",
   "execution_count": null,
   "metadata": {},
   "outputs": [],
   "source": [
    "df.min()"
   ]
  },
  {
   "cell_type": "code",
   "execution_count": null,
   "metadata": {},
   "outputs": [],
   "source": [
    "df.mean()"
   ]
  },
  {
   "cell_type": "code",
   "execution_count": null,
   "metadata": {},
   "outputs": [],
   "source": [
    "df.std()"
   ]
  },
  {
   "cell_type": "code",
   "execution_count": null,
   "metadata": {},
   "outputs": [],
   "source": [
    "df.describe()"
   ]
  },
  {
   "cell_type": "markdown",
   "metadata": {},
   "source": [
    "Add column to a DataFrame"
   ]
  },
  {
   "cell_type": "code",
   "execution_count": null,
   "metadata": {},
   "outputs": [],
   "source": [
    "df['Volume'] = df['Height'] * np.pi * (df['Diameter'] / 200.) ** 2. # assume each tree is a cylinder\n",
    "df.describe()"
   ]
  },
  {
   "cell_type": "markdown",
   "metadata": {},
   "source": [
    "Now let's explore pandas and matplotlib using a real data set\n",
    "Biomass And Allometry Database for woody plants ([BAAD](https://github.com/dfalster/baad))"
   ]
  },
  {
   "cell_type": "code",
   "execution_count": 6,
   "metadata": {},
   "outputs": [],
   "source": [
    "# I stored the data on my github repo\n",
    "# Note we have to use 'raw csv files' (raw.githubusercontent.com)\n",
    "baad_data_url = 'https://raw.githubusercontent.com/xiangtaoxu/QuantitativeEcology/main/Lab1/baad_data.csv'\n",
    "baad_dictionary_url = 'https://raw.githubusercontent.com/xiangtaoxu/QuantitativeEcology/main/Lab1/baad_dictionary.csv'\n",
    "\n",
    "# encodings are not always necessary \n",
    "# Here I include them because the raw csv is not compatible with utf-8 encoding\n",
    "\n",
    "df_data = pd.read_csv(baad_data_url, encoding='latin_1') # can also read local files\n",
    "df_dict = pd.read_csv(baad_dictionary_url, encoding='latin_1')"
   ]
  },
  {
   "cell_type": "code",
   "execution_count": 66,
   "metadata": {},
   "outputs": [
    {
     "data": {
      "text/html": [
       "<div>\n",
       "<style scoped>\n",
       "    .dataframe tbody tr th:only-of-type {\n",
       "        vertical-align: middle;\n",
       "    }\n",
       "\n",
       "    .dataframe tbody tr th {\n",
       "        vertical-align: top;\n",
       "    }\n",
       "\n",
       "    .dataframe thead th {\n",
       "        text-align: right;\n",
       "    }\n",
       "</style>\n",
       "<table border=\"1\" class=\"dataframe\">\n",
       "  <thead>\n",
       "    <tr style=\"text-align: right;\">\n",
       "      <th></th>\n",
       "      <th>latitude</th>\n",
       "      <th>longitude</th>\n",
       "      <th>map</th>\n",
       "      <th>mat</th>\n",
       "      <th>lai</th>\n",
       "      <th>status</th>\n",
       "      <th>age</th>\n",
       "      <th>a.lf</th>\n",
       "      <th>a.ssba</th>\n",
       "      <th>a.ssbh</th>\n",
       "      <th>...</th>\n",
       "      <th>r.st</th>\n",
       "      <th>r.ss</th>\n",
       "      <th>r.sb</th>\n",
       "      <th>r.sh</th>\n",
       "      <th>n.lf</th>\n",
       "      <th>n.ss</th>\n",
       "      <th>n.sb</th>\n",
       "      <th>n.sh</th>\n",
       "      <th>n.rf</th>\n",
       "      <th>n.rc</th>\n",
       "    </tr>\n",
       "  </thead>\n",
       "  <tbody>\n",
       "    <tr>\n",
       "      <th>count</th>\n",
       "      <td>21021.000000</td>\n",
       "      <td>21021.000000</td>\n",
       "      <td>10811.000000</td>\n",
       "      <td>7747.000000</td>\n",
       "      <td>1349.000000</td>\n",
       "      <td>8343.000000</td>\n",
       "      <td>7074.000000</td>\n",
       "      <td>13846.000000</td>\n",
       "      <td>168.000000</td>\n",
       "      <td>1.475000e+03</td>\n",
       "      <td>...</td>\n",
       "      <td>3529.000000</td>\n",
       "      <td>53.000000</td>\n",
       "      <td>0.0</td>\n",
       "      <td>53.000000</td>\n",
       "      <td>1303.000000</td>\n",
       "      <td>425.00000</td>\n",
       "      <td>261.000000</td>\n",
       "      <td>143.000000</td>\n",
       "      <td>148.000000</td>\n",
       "      <td>207.000000</td>\n",
       "    </tr>\n",
       "    <tr>\n",
       "      <th>mean</th>\n",
       "      <td>13.655537</td>\n",
       "      <td>-5.282039</td>\n",
       "      <td>1841.902710</td>\n",
       "      <td>18.287884</td>\n",
       "      <td>2.838455</td>\n",
       "      <td>1.527268</td>\n",
       "      <td>27.921915</td>\n",
       "      <td>15.096232</td>\n",
       "      <td>0.007162</td>\n",
       "      <td>1.590537e-02</td>\n",
       "      <td>...</td>\n",
       "      <td>450.518571</td>\n",
       "      <td>422.264151</td>\n",
       "      <td>NaN</td>\n",
       "      <td>377.547170</td>\n",
       "      <td>0.022754</td>\n",
       "      <td>0.00184</td>\n",
       "      <td>0.004138</td>\n",
       "      <td>0.001035</td>\n",
       "      <td>0.003741</td>\n",
       "      <td>0.003309</td>\n",
       "    </tr>\n",
       "    <tr>\n",
       "      <th>std</th>\n",
       "      <td>31.105572</td>\n",
       "      <td>102.115072</td>\n",
       "      <td>1085.086683</td>\n",
       "      <td>10.437237</td>\n",
       "      <td>1.046695</td>\n",
       "      <td>1.372031</td>\n",
       "      <td>53.259723</td>\n",
       "      <td>112.063933</td>\n",
       "      <td>0.015184</td>\n",
       "      <td>3.916367e-02</td>\n",
       "      <td>...</td>\n",
       "      <td>211.803847</td>\n",
       "      <td>70.401090</td>\n",
       "      <td>NaN</td>\n",
       "      <td>45.060031</td>\n",
       "      <td>0.006016</td>\n",
       "      <td>0.00116</td>\n",
       "      <td>0.001545</td>\n",
       "      <td>0.000829</td>\n",
       "      <td>0.002048</td>\n",
       "      <td>0.001924</td>\n",
       "    </tr>\n",
       "    <tr>\n",
       "      <th>min</th>\n",
       "      <td>-51.593889</td>\n",
       "      <td>-125.500000</td>\n",
       "      <td>175.000000</td>\n",
       "      <td>0.800000</td>\n",
       "      <td>0.310000</td>\n",
       "      <td>0.000000</td>\n",
       "      <td>0.166667</td>\n",
       "      <td>0.000018</td>\n",
       "      <td>0.000015</td>\n",
       "      <td>1.809557e-07</td>\n",
       "      <td>...</td>\n",
       "      <td>61.000000</td>\n",
       "      <td>300.000000</td>\n",
       "      <td>NaN</td>\n",
       "      <td>310.000000</td>\n",
       "      <td>0.004390</td>\n",
       "      <td>0.00000</td>\n",
       "      <td>0.002051</td>\n",
       "      <td>0.000000</td>\n",
       "      <td>0.000000</td>\n",
       "      <td>0.000000</td>\n",
       "    </tr>\n",
       "    <tr>\n",
       "      <th>25%</th>\n",
       "      <td>-11.000000</td>\n",
       "      <td>-79.850000</td>\n",
       "      <td>1160.000000</td>\n",
       "      <td>4.200000</td>\n",
       "      <td>1.839200</td>\n",
       "      <td>0.000000</td>\n",
       "      <td>3.930000</td>\n",
       "      <td>0.009011</td>\n",
       "      <td>0.000198</td>\n",
       "      <td>9.109335e-04</td>\n",
       "      <td>...</td>\n",
       "      <td>290.000000</td>\n",
       "      <td>370.000000</td>\n",
       "      <td>NaN</td>\n",
       "      <td>340.000000</td>\n",
       "      <td>0.019278</td>\n",
       "      <td>0.00100</td>\n",
       "      <td>0.003000</td>\n",
       "      <td>0.000160</td>\n",
       "      <td>0.002100</td>\n",
       "      <td>0.002060</td>\n",
       "    </tr>\n",
       "    <tr>\n",
       "      <th>50%</th>\n",
       "      <td>10.432100</td>\n",
       "      <td>-66.000000</td>\n",
       "      <td>1609.000000</td>\n",
       "      <td>25.300000</td>\n",
       "      <td>3.000000</td>\n",
       "      <td>2.000000</td>\n",
       "      <td>13.000000</td>\n",
       "      <td>0.047200</td>\n",
       "      <td>0.001211</td>\n",
       "      <td>4.425000e-03</td>\n",
       "      <td>...</td>\n",
       "      <td>410.000000</td>\n",
       "      <td>410.000000</td>\n",
       "      <td>NaN</td>\n",
       "      <td>370.000000</td>\n",
       "      <td>0.023011</td>\n",
       "      <td>0.00164</td>\n",
       "      <td>0.003720</td>\n",
       "      <td>0.000940</td>\n",
       "      <td>0.004685</td>\n",
       "      <td>0.002960</td>\n",
       "    </tr>\n",
       "    <tr>\n",
       "      <th>75%</th>\n",
       "      <td>43.661460</td>\n",
       "      <td>115.166700</td>\n",
       "      <td>1780.000000</td>\n",
       "      <td>27.000000</td>\n",
       "      <td>3.680000</td>\n",
       "      <td>3.000000</td>\n",
       "      <td>35.000000</td>\n",
       "      <td>0.621906</td>\n",
       "      <td>0.007433</td>\n",
       "      <td>1.221629e-02</td>\n",
       "      <td>...</td>\n",
       "      <td>550.000000</td>\n",
       "      <td>460.000000</td>\n",
       "      <td>NaN</td>\n",
       "      <td>400.000000</td>\n",
       "      <td>0.026555</td>\n",
       "      <td>0.00228</td>\n",
       "      <td>0.004500</td>\n",
       "      <td>0.001770</td>\n",
       "      <td>0.004760</td>\n",
       "      <td>0.004510</td>\n",
       "    </tr>\n",
       "    <tr>\n",
       "      <th>max</th>\n",
       "      <td>62.330000</td>\n",
       "      <td>175.313900</td>\n",
       "      <td>5080.000000</td>\n",
       "      <td>30.000000</td>\n",
       "      <td>5.937756</td>\n",
       "      <td>9.000000</td>\n",
       "      <td>1847.000000</td>\n",
       "      <td>6018.000000</td>\n",
       "      <td>0.088190</td>\n",
       "      <td>6.701520e-01</td>\n",
       "      <td>...</td>\n",
       "      <td>1603.000000</td>\n",
       "      <td>590.000000</td>\n",
       "      <td>NaN</td>\n",
       "      <td>500.000000</td>\n",
       "      <td>0.045070</td>\n",
       "      <td>0.00820</td>\n",
       "      <td>0.010600</td>\n",
       "      <td>0.002870</td>\n",
       "      <td>0.008300</td>\n",
       "      <td>0.010100</td>\n",
       "    </tr>\n",
       "  </tbody>\n",
       "</table>\n",
       "<p>8 rows × 52 columns</p>\n",
       "</div>"
      ],
      "text/plain": [
       "           latitude     longitude           map          mat          lai  \\\n",
       "count  21021.000000  21021.000000  10811.000000  7747.000000  1349.000000   \n",
       "mean      13.655537     -5.282039   1841.902710    18.287884     2.838455   \n",
       "std       31.105572    102.115072   1085.086683    10.437237     1.046695   \n",
       "min      -51.593889   -125.500000    175.000000     0.800000     0.310000   \n",
       "25%      -11.000000    -79.850000   1160.000000     4.200000     1.839200   \n",
       "50%       10.432100    -66.000000   1609.000000    25.300000     3.000000   \n",
       "75%       43.661460    115.166700   1780.000000    27.000000     3.680000   \n",
       "max       62.330000    175.313900   5080.000000    30.000000     5.937756   \n",
       "\n",
       "            status          age          a.lf      a.ssba        a.ssbh  ...  \\\n",
       "count  8343.000000  7074.000000  13846.000000  168.000000  1.475000e+03  ...   \n",
       "mean      1.527268    27.921915     15.096232    0.007162  1.590537e-02  ...   \n",
       "std       1.372031    53.259723    112.063933    0.015184  3.916367e-02  ...   \n",
       "min       0.000000     0.166667      0.000018    0.000015  1.809557e-07  ...   \n",
       "25%       0.000000     3.930000      0.009011    0.000198  9.109335e-04  ...   \n",
       "50%       2.000000    13.000000      0.047200    0.001211  4.425000e-03  ...   \n",
       "75%       3.000000    35.000000      0.621906    0.007433  1.221629e-02  ...   \n",
       "max       9.000000  1847.000000   6018.000000    0.088190  6.701520e-01  ...   \n",
       "\n",
       "              r.st        r.ss  r.sb        r.sh         n.lf       n.ss  \\\n",
       "count  3529.000000   53.000000   0.0   53.000000  1303.000000  425.00000   \n",
       "mean    450.518571  422.264151   NaN  377.547170     0.022754    0.00184   \n",
       "std     211.803847   70.401090   NaN   45.060031     0.006016    0.00116   \n",
       "min      61.000000  300.000000   NaN  310.000000     0.004390    0.00000   \n",
       "25%     290.000000  370.000000   NaN  340.000000     0.019278    0.00100   \n",
       "50%     410.000000  410.000000   NaN  370.000000     0.023011    0.00164   \n",
       "75%     550.000000  460.000000   NaN  400.000000     0.026555    0.00228   \n",
       "max    1603.000000  590.000000   NaN  500.000000     0.045070    0.00820   \n",
       "\n",
       "             n.sb        n.sh        n.rf        n.rc  \n",
       "count  261.000000  143.000000  148.000000  207.000000  \n",
       "mean     0.004138    0.001035    0.003741    0.003309  \n",
       "std      0.001545    0.000829    0.002048    0.001924  \n",
       "min      0.002051    0.000000    0.000000    0.000000  \n",
       "25%      0.003000    0.000160    0.002100    0.002060  \n",
       "50%      0.003720    0.000940    0.004685    0.002960  \n",
       "75%      0.004500    0.001770    0.004760    0.004510  \n",
       "max      0.010600    0.002870    0.008300    0.010100  \n",
       "\n",
       "[8 rows x 52 columns]"
      ]
     },
     "execution_count": 66,
     "metadata": {},
     "output_type": "execute_result"
    }
   ],
   "source": [
    "df_data.describe()"
   ]
  },
  {
   "cell_type": "code",
   "execution_count": null,
   "metadata": {},
   "outputs": [],
   "source": [
    "print(df_dict)"
   ]
  },
  {
   "cell_type": "code",
   "execution_count": 69,
   "metadata": {},
   "outputs": [
    {
     "data": {
      "image/png": "[encoded data removed]",
      "text/plain": [
       "<Figure size 432x216 with 2 Axes>"
      ]
     },
     "metadata": {
      "needs_background": "light"
     },
     "output_type": "display_data"
    }
   ],
   "source": [
    "# plot two figures showing the distribution of latitude of the samples and heights of the samples\n",
    "panel_x,panel_y=1,2\n",
    "\n",
    "fig, axes = plt.subplots(panel_x,panel_y,figsize=(panel_y*3,panel_x*3))\n",
    "# here note that the order of x and y are reversed when defining figsize\n",
    "\n",
    "df_data.plot(y='latitude',kind='hist',ax=axes[0],bins=20)\n",
    "df_data.plot(y='h.t',kind='hist',ax=axes[1],bins=np.linspace(0.,50.,20))\n",
    "\n",
    "fig.tight_layout()\n",
    "plt.savefig('./baad_pandas_hist.png',dpi=300)"
   ]
  },
  {
   "cell_type": "code",
   "execution_count": 7,
   "metadata": {},
   "outputs": [
    {
     "data": {
      "image/png": "[encoded data removed]",
      "text/plain": [
       "<Figure size 216x432 with 2 Axes>"
      ]
     },
     "metadata": {
      "needs_background": "light"
     },
     "output_type": "display_data"
    }
   ],
   "source": [
    "# scatter plot diameter and height and diameter with leaf area\n",
    "panel_x,panel_y=2,1\n",
    "\n",
    "# we ask the two figures to share x\n",
    "fig, axes = plt.subplots(panel_x,panel_y,figsize=(panel_y*3,panel_x*3),\n",
    "                         sharex=True)\n",
    "# here note that the order of x and y are reversed when defining figsize\n",
    "\n",
    "df_data.plot(x='d.bh',y='h.t',kind='scatter',ax=axes[0],s=10,c='r',alpha=0.5\n",
    "            ,loglog=True,xlim=[1e-4,10.])\n",
    "axes[0].set_title('DBH vs Height')\n",
    "\n",
    "df_data.plot(x='d.bh',y='a.lf',kind='scatter',ax=axes[1],s=20,c='b',alpha=0.5\n",
    "            ,loglog=True,xlim=[1e-4,10.])\n",
    "axes[1].set_title('DBH vs Leaf Area')\n",
    "\n",
    "fig.tight_layout()\n",
    "plt.savefig('./baad_pandas_scatter.png',dpi=300)"
   ]
  },
  {
   "cell_type": "markdown",
   "metadata": {},
   "source": [
    "There are more tricks to plot with pandas. Check [here](https://pandas.pydata.org/pandas-docs/stable/user_guide/visualization.html) for more.\n",
    "\n",
    "Here I am showing one more example of grouping"
   ]
  },
  {
   "cell_type": "code",
   "execution_count": 8,
   "metadata": {},
   "outputs": [
    {
     "data": {
      "text/plain": [
       "<AxesSubplot:title={'center':'h.t'}, xlabel='[vegetation]'>"
      ]
     },
     "execution_count": 8,
     "metadata": {},
     "output_type": "execute_result"
    },
    {
     "data": {
      "text/plain": [
       "<Figure size 864x216 with 0 Axes>"
      ]
     },
     "metadata": {},
     "output_type": "display_data"
    },
    {
     "data": {
      "image/png": "[encoded data removed]",
      "text/plain": [
       "<Figure size 432x288 with 1 Axes>"
      ]
     },
     "metadata": {
      "needs_background": "light"
     },
     "output_type": "display_data"
    }
   ],
   "source": [
    "#subset df by selecting forest vegetation types\n",
    "df_sub = df_data[df_data['vegetation'].isin(['BorF','Sav','TempF','TropRF','TropSF','Wo'])]\n",
    "df_sub.to_csv('./baad_forest.csv')\n",
    "\n",
    "fig = plt.figure(figsize=(12,3))\n",
    "df_sub.boxplot(column=['h.t'],by=['vegetation'])\n"
   ]
  },
  {
   "cell_type": "markdown",
   "metadata": {},
   "source": [
    "### 4. Spatial maps with Cartopy\n"
   ]
  },
  {
   "cell_type": "code",
   "execution_count": 4,
   "metadata": {},
   "outputs": [],
   "source": [
    "import cartopy.crs as ccrs"
   ]
  },
  {
   "cell_type": "markdown",
   "metadata": {},
   "source": [
    "Let's start with a global map with coastlines"
   ]
  },
  {
   "cell_type": "code",
   "execution_count": 71,
   "metadata": {},
   "outputs": [
    {
     "data": {
      "image/png": "[encoded data removed]",
      "text/plain": [
       "<Figure size 432x288 with 1 Axes>"
      ]
     },
     "metadata": {
      "needs_background": "light"
     },
     "output_type": "display_data"
    }
   ],
   "source": [
    "fig = plt.figure()\n",
    "\n",
    "ax = plt.axes(projection=ccrs.Mollweide())\n",
    "\n",
    "# you can try a few more projections such as\n",
    "# Mercator (not suggested to use due to extortion over the polar regions)\n",
    "# InterruptedGoodeHomolosine\n",
    "# SouthPolarStereo\n",
    "\n",
    "ax.stock_img()\n",
    "\n",
    "ax.coastlines()\n",
    "\n",
    "# add sample location from the baad database\n",
    "baad_latlon=df_data[['longitude','latitude']].sample(100) # randomly sample 100\n",
    "\n",
    "ax.plot(baad_latlon['longitude'].values,\n",
    "        baad_latlon['latitude'],\n",
    "        marker='o',\n",
    "        markerfacecolor='r',\n",
    "        linestyle='',\n",
    "        transform=ccrs.PlateCarree())\n",
    "\n",
    "plt.show()"
   ]
  },
  {
   "cell_type": "markdown",
   "metadata": {},
   "source": [
    "Then, let's try to overlay the synthetic abudnance data over US state boundaries"
   ]
  },
  {
   "cell_type": "code",
   "execution_count": 5,
   "metadata": {},
   "outputs": [
    {
     "data": {
      "image/png": "[encoded data removed]",
      "text/plain": [
       "<Figure size 432x288 with 2 Axes>"
      ]
     },
     "metadata": {
      "needs_background": "light"
     },
     "output_type": "display_data"
    }
   ],
   "source": [
    "import cartopy.feature as cfeature\n",
    "\n",
    "fig = plt.figure()\n",
    "\n",
    "# projection is for plot\n",
    "# transform is for data\n",
    "\n",
    "plot_proj = ccrs.LambertConformal()\n",
    "latlon_proj = ccrs.PlateCarree() # used if you have lat/lon data\n",
    "             \n",
    "ax = plt.axes(projection=plot_proj)\n",
    "\n",
    "\n",
    "\n",
    "\n",
    "lon = np.linspace(-100, -80, 21)\n",
    "lat = np.linspace(20, 30, 11)\n",
    "\n",
    "lon2d, lat2d = np.meshgrid(lon, lat)\n",
    "\n",
    "\n",
    "\n",
    "abundance_mat = np.random.random(lon2d.shape) \n",
    "\n",
    "\n",
    "\n",
    "hpc = ax.pcolormesh(lon2d, lat2d,abundance_mat,vmin=0,vmax=1,transform=latlon_proj)\n",
    "ax.set_extent([-120,-70,15,35],latlon_proj)\n",
    "ax.coastlines()\n",
    "\n",
    "\n",
    "# add state borders\n",
    "\n",
    "# Create a feature for States/Admin 1 regions at 1:50m from Natural Earth\n",
    "\n",
    "ax.add_feature(cfeature.STATES,facecolor='none',edgecolor='gray')\n",
    "\n",
    "\n",
    "plt.colorbar(hpc,ax=ax, shrink=.5,label='Abundance')\n",
    "\n",
    "plt.show()\n"
   ]
  },
  {
   "cell_type": "code",
   "execution_count": 17,
   "metadata": {},
   "outputs": [
    {
     "name": "stderr",
     "output_type": "stream",
     "text": [
      "<ipython-input-17-2501598d4881>:65: DeprecationWarning: The background_patch property is deprecated. Use GeoAxes.patch instead.\n",
      "  ax.background_patch.set_visible(False)\n",
      "<ipython-input-17-2501598d4881>:66: DeprecationWarning: The outline_patch property is deprecated. Use GeoAxes.spines['geo'] or the default Axes properties instead.\n",
      "  ax.outline_patch.set_visible(False)\n"
     ]
    },
    {
     "data": {
      "image/png": "[encoded data removed]",
      "text/plain": [
       "<Figure size 432x288 with 1 Axes>"
      ]
     },
     "metadata": {
      "needs_background": "light"
     },
     "output_type": "display_data"
    }
   ],
   "source": [
    "import cartopy.io.shapereader as shpreader\n",
    "from matplotlib import cm\n",
    "\n",
    "viridis = cm.get_cmap('viridis')\n",
    "\n",
    "fig = plt.figure()\n",
    "ax = fig.add_axes([0, 0, 1, 1], projection=ccrs.LambertConformal())\n",
    "\n",
    "ax.set_extent([-125, -66.5, 20, 50], ccrs.PlateCarree())\n",
    "\n",
    "shapename = 'admin_1_states_provinces_lakes_shp'\n",
    "states_shp = shpreader.natural_earth(resolution='110m',\n",
    "                                     category='cultural', name=shapename)\n",
    "\n",
    "popdensity = {\n",
    "    'New Jersey':  438.00,\n",
    "    'Rhode Island':   387.35,\n",
    "    'Massachusetts':   312.68,\n",
    "    'Connecticut':    271.40,\n",
    "    'Maryland':   209.23,\n",
    "    'New York':    155.18,\n",
    "    'Delaware':    154.87,\n",
    "    'Florida':     114.43,\n",
    "    'Ohio':  107.05,\n",
    "    'Pennsylvania':  105.80,\n",
    "    'Illinois':    86.27,\n",
    "    'California':  83.85,\n",
    "    'Virginia':    69.03,\n",
    "    'Michigan':    67.55,\n",
    "    'Indiana':    65.46,\n",
    "    'North Carolina':  63.80,\n",
    "    'Georgia':     54.59,\n",
    "    'Tennessee':   53.29,\n",
    "    'New Hampshire':   53.20,\n",
    "    'South Carolina':  51.45,\n",
    "    'Louisiana':   39.61,\n",
    "    'Kentucky':   39.28,\n",
    "    'Wisconsin':  38.13,\n",
    "    'Washington':  34.20,\n",
    "    'Alabama':     33.84,\n",
    "    'Missouri':    31.36,\n",
    "    'Texas':   30.75,\n",
    "    'West Virginia':   29.00,\n",
    "    'Vermont':     25.41,\n",
    "    'Minnesota':  23.86,\n",
    "    'Mississippi':   23.42,\n",
    "    'Iowa':  20.22,\n",
    "    'Arkansas':    19.82,\n",
    "    'Oklahoma':    19.40,\n",
    "    'Arizona':     17.43,\n",
    "    'Colorado':    16.01,\n",
    "    'Maine':  15.95,\n",
    "    'Oregon':  13.76,\n",
    "    'Kansas':  12.69,\n",
    "    'Utah':  10.50,\n",
    "    'Nebraska':    8.60,\n",
    "    'Nevada':  7.03,\n",
    "    'Idaho':   6.04,\n",
    "    'New Mexico':  5.79,\n",
    "    'South Dakota':  3.84,\n",
    "    'North Dakota':  3.59,\n",
    "    'Montana':     2.39,\n",
    "    'Wyoming':      1.96}\n",
    "\n",
    "ax.background_patch.set_visible(False)\n",
    "ax.outline_patch.set_visible(False)\n",
    "\n",
    "ax.set_title('State Population Density')\n",
    "\n",
    "for astate in shpreader.Reader(states_shp).records():\n",
    "\n",
    "    edgecolor = 'black'\n",
    "\n",
    "    try:\n",
    "        # use the name of this state to get pop_density\n",
    "        state_dens = popdensity[ astate.attributes['name'] ]\n",
    "    except:\n",
    "        state_dens = 0\n",
    "\n",
    "    # simple scheme to assign color to each state\n",
    "    #if state_dens < 40:\n",
    "    #    facecolor = \"lightyellow\"\n",
    "    #elif state_dens > 200:\n",
    "    #    facecolor = \"red\"\n",
    "    #else:\n",
    "    #    facecolor = \"pink\"\n",
    "    facecolor = viridis(state_dens / 500.)\n",
    "\n",
    "   \n",
    "    h = ax.add_geometries([astate.geometry], ccrs.PlateCarree(),\n",
    "                      facecolor=facecolor, edgecolor=edgecolor)\n",
    "    \n",
    "plt.show()"
   ]
  },
  {
   "cell_type": "markdown",
   "metadata": {},
   "source": [
    "### Challenge 3. Plot global distribution of sampling density in BAAD database\n",
    "\n",
    "Count the sampling density for a 2-by-2 degree windows and plot it over a global map"
   ]
  },
  {
   "cell_type": "code",
   "execution_count": null,
   "metadata": {},
   "outputs": [],
   "source": []
  }
 ],
 "metadata": {
  "kernelspec": {
   "display_name": "Python 3",
   "language": "python",
   "name": "python3"
  },
  "language_info": {
   "codemirror_mode": {
    "name": "ipython",
    "version": 3
   },
   "file_extension": ".py",
   "mimetype": "text/x-python",
   "name": "python",
   "nbconvert_exporter": "python",
   "pygments_lexer": "ipython3",
   "version": "3.8.5"
  }
 },
 "nbformat": 4,
 "nbformat_minor": 4
}
