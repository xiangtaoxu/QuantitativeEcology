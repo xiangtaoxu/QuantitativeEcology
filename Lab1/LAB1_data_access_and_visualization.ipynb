{
 "cells": [
  {
   "cell_type": "markdown",
   "metadata": {
    "slideshow": {
     "slide_type": "slide"
    }
   },
   "source": [
    "# BIOEE 4940 : **Introduction to Quantitative Analysis in Ecology**\n",
    "### ***Spring 2021***\n",
    "### Instructor: **Xiangtao Xu** ( ✉️ xx286@cornell.edu)\n",
    "### Teaching Assistant: **Yanqiu (Autumn) Zhou** (✉️ yz399@cornell.edu)\n",
    "\n",
    "---\n",
    "\n",
    "## <span style=\"color:royalblue\">Lab 1</span> *Python Basics, I/O, and Visualization*\n",
    "*Partly adapted from [Earth and Environmental Data Science](https://earth-env-data-science.github.io/intro)*"
   ]
  },
  {
   "cell_type": "markdown",
   "metadata": {},
   "source": [
    "* Python is an interpreted, high-level and general-purpose programming language, first released in 1991 by Guido van Rossum.\n",
    "\n",
    "* R vs Python - an inaccurate comparison....\n",
    "  (read more [here](https://dev.to/daveparr/the-real-difference-tm-between-python-and-r-for-data-science-280i))\n",
    "\n",
    "<img src=\"https://res.cloudinary.com/practicaldev/image/fetch/s--ReZqX08z--/c_limit%2Cf_auto%2Cfl_progressive%2Cq_auto%2Cw_880/https://pbs.twimg.com/media/Ce8VP0FWIAI0ad2%3Fformat%3Djpg%26name%3Dsmall\" alt=\"R vs Python\" style=\"width: 600px;\"/>\n",
    "\n",
    "\n",
    "---"
   ]
  },
  {
   "cell_type": "markdown",
   "metadata": {},
   "source": [
    "### 1. Fundamentals of Python\n",
    "\n",
    "In this section, we will talk about some fundamental features of the Python language, including basic **data types, flow control, and mathematical operations**. Generally, these are also key aspects to quickly understand a programming langugage and its difference with other langugages. Some delicacies in the fundamentals might also lead to common bugs in your analyses.\n",
    "\n",
    "Currently, the majority of the science community uses Python 3 although you might encounter legacy codes written in Python 2 in your own research. Sometimes, you will run into errors when running Python 2 codes with Python 3 because there are several key changes in Python 3, such as:\n",
    "\n",
    "* `print` is a function\n",
    "* Integer division returns a float \n",
    "* Unicode is used for encoding code\n",
    "* ..."
   ]
  },
  {
   "cell_type": "markdown",
   "metadata": {},
   "source": [
    "**1.1. Numbers and Math**\n",
    "\n",
    "Numbers further include integers and floats (real numbers), which are stored differently in computer memory and might show different behaviors under mathematical and other operations.\n",
    "\n"
   ]
  },
  {
   "cell_type": "code",
   "execution_count": null,
   "metadata": {},
   "outputs": [],
   "source": [
    "# comments are anything that comes after the \"#\" symbol\n",
    "a_int = 1 # assign an integer 1 to a_int\n",
    "a_float = 1. # assign a float 1 to a_float\n",
    "\n",
    "# python also support multiple destination variables when assigning values\n",
    "a_int, a_float = 1 , 1.\n",
    "\n",
    "# check their types\n",
    "print(type(a_int))\n",
    "print(type(a_float))"
   ]
  },
  {
   "cell_type": "markdown",
   "metadata": {},
   "source": [
    "Basic mathematical operations in python includes arithmetic and boolean logic."
   ]
  },
  {
   "cell_type": "code",
   "execution_count": null,
   "metadata": {},
   "outputs": [],
   "source": [
    "# addition / subtraction / multiplication / division\n",
    "\n",
    "print(1 + 1 - 2 * 3 / 5)\n"
   ]
  },
  {
   "cell_type": "markdown",
   "metadata": {},
   "source": [
    "Note that the results is a float although we only used integer. This is because **division in Python 3 by default returns a float**, while some other languages (e.g. C/Fortran) will truncate the fractions and return an integer, which can lead to bugs in your analysis"
   ]
  },
  {
   "cell_type": "code",
   "execution_count": null,
   "metadata": {},
   "outputs": [],
   "source": [
    "## exponentiation\n",
    "\n",
    "print (2**10)\n",
    "print (2**0.5)\n",
    "\n",
    "## rounding\n",
    "\n",
    "print(round(2**0.5, 4))\n",
    "\n",
    "# modulo operation\n",
    "\n",
    "print(12 % 7)   # get the modulus\n",
    "print(12 // 7)  # get the integer\n",
    "\n"
   ]
  },
  {
   "cell_type": "code",
   "execution_count": null,
   "metadata": {},
   "outputs": [],
   "source": [
    "# Logic and Boolean and relational operator\n",
    "\n",
    "is_weekday = True\n",
    "is_snow = False\n",
    "\n",
    "print(is_weekday and is_snow)\n",
    "print(is_weekday or is_snow)\n",
    "print(not (is_weekday and is_snow))\n",
    "print((not is_weekday) and is_snow) # try to use parenthesis whenever possible to improve readability"
   ]
  },
  {
   "cell_type": "code",
   "execution_count": null,
   "metadata": {},
   "outputs": [],
   "source": [
    "# comparison of number values\n",
    "\n",
    "a = 5\n",
    "\n",
    "print(a > 1)\n",
    "print(a < 10.)\n",
    "print(a == 5)  # equal\n",
    "print(a != 5)  # not equal"
   ]
  },
  {
   "cell_type": "markdown",
   "metadata": {},
   "source": [
    "Try to avoid using `==` or `!=` for floats because there could be **numerical errors** after complex mathematical operations."
   ]
  },
  {
   "cell_type": "code",
   "execution_count": null,
   "metadata": {},
   "outputs": [],
   "source": [
    "# a simple example for numerical errors\n",
    "\n",
    "b = (5 ** 0.0001) ** 10000\n",
    "print(b)\n",
    "print(a == b)\n",
    "\n",
    "\n",
    "# instead compare whether the difference is small enough\n",
    "abs_tol = 1e-8 # another way to define floats using scientific notation\n",
    "print(abs(a - b) < abs_tol) # abs() returns the absolute value\n"
   ]
  },
  {
   "cell_type": "markdown",
   "metadata": {},
   "source": [
    "**1.2 Strings**\n",
    "\n",
    "Python has powerful supports for string operations that can comes very handy for dealing with text/character-based data (e.g. species names, genome sequences, qualitative data).\n",
    "\n",
    "Note that the indexing in python **starts from 0 and is left inclusive**."
   ]
  },
  {
   "cell_type": "code",
   "execution_count": null,
   "metadata": {},
   "outputs": [],
   "source": [
    "# string definition, use either \"\" or ''\n",
    "\n",
    "treatment_level = \"1\"\n",
    "print(type(treatment_level) is int)\n",
    "\n",
    "burmese_python = \"\\\"Python bivittatus\\\"\"\n",
    "print(burmese_python)\n",
    "\n",
    "# index starts from zero and is left inclusive\n",
    "print(burmese_python[0])\n",
    "name_length = len(burmese_python)\n",
    "print(name_length)\n",
    "print(burmese_python[name_length-1])\n",
    "print(burmese_python[-1])\n",
    "print(burmese_python[1:7])\n",
    "\n",
    "# this one will throw out an error\n",
    "print(burmese_python[name_length])\n"
   ]
  },
  {
   "cell_type": "markdown",
   "metadata": {},
   "source": [
    "String is a built-in class in python, which has various useful class methods. See [here](https://docs.python.org/2.5/lib/string-methods.html) for more. Here I list a few examples."
   ]
  },
  {
   "cell_type": "code",
   "execution_count": null,
   "metadata": {},
   "outputs": [],
   "source": [
    "# use \"\"\" for long strings\n",
    "oaks = \"\"\"Quercus rubra\n",
    "Quercus alba\n",
    "Quercus velutina\"\"\"\n",
    "\n",
    "# capitalize, use tab to auto-complete the command in jupyter notebook\n",
    "print(oaks.upper())\n",
    "\n",
    "# split\n",
    "print(oaks.split('\\n')) # returns a list contains all the substrings\n",
    "\n",
    "# join\n",
    "print(' '.join(['Quercus','rubra','is','the','scientific','name','of','red','oak']))\n",
    "\n",
    "# find the second occurance of a sub-string\n",
    "print(oaks.find(\"Quercus\",2))\n",
    "\n",
    "# replace (does not change the original string)\n",
    "print(oaks.replace(\"rubra\",\"coccinea\"))\n",
    "print('\\noriginal oaks:\\n',oaks,'\\n')\n",
    "\n",
    "# String math operations\n",
    "print((\"duplicate\" + \" \" + \"myself \") * 5) # multiplication with positive integers"
   ]
  },
  {
   "cell_type": "markdown",
   "metadata": {},
   "source": [
    "Strings can be converted from or into other numerical data types"
   ]
  },
  {
   "cell_type": "code",
   "execution_count": null,
   "metadata": {},
   "outputs": [],
   "source": [
    "# string to numbers\n",
    "num_str = '1'\n",
    "print(int(num_str))\n",
    "print(float(num_str))\n",
    "\n",
    "# numbers to string, check https://realpython.com/python-f-strings/ and https://pyformat.info/ for more details and tricks\n",
    "\n",
    "pi_val = 3.1415926\n",
    "print(f'the value of \\u03C0 is {pi_val}')\n",
    "\n",
    "# formatting floating numbers\n",
    "# L.Sf where L indicates the total length of the final string\n",
    "# S indicates the number of digits\n",
    "print(f'the value of \\u03C0 is {pi_val:4.2f}')\n",
    "\n",
    "# formatting floating numbers into scientific notification\n",
    "print(f'{12345678:5.3e}')\n",
    "\n",
    "year, month, day = 2021, 2, 10\n",
    "print(f'Today is {year:4d}-{month:02d}-{day:2d}') # formatting the integers, 02 means to use 0 for padding\n",
    "\n",
    "\n"
   ]
  },
  {
   "cell_type": "markdown",
   "metadata": {},
   "source": [
    "**1.3 Lists and Loops**\n",
    "\n",
    "List is the built-in structures to represent arrays, which can host heterogenous data types"
   ]
  },
  {
   "cell_type": "code",
   "execution_count": null,
   "metadata": {},
   "outputs": [],
   "source": [
    "oaks = \"\"\"Quercus rubra\n",
    "Quercus alba\n",
    "Quercus velutina\"\"\"\n",
    "oak_list = oaks.split('\\n')\n",
    "print(oak_list)\n",
    "\n",
    "\n",
    "# append an element\n",
    "oak_list.append(1)\n",
    "print(oak_list)\n",
    "\n",
    "# pop the last element\n",
    "oak_list.pop()\n",
    "print(oak_list)\n",
    "\n",
    "# sort the list\n",
    "oak_list.sort()\n",
    "print(oak_list)"
   ]
  },
  {
   "cell_type": "code",
   "execution_count": null,
   "metadata": {},
   "outputs": [],
   "source": [
    "# Different methods loop over the elements of the list\n",
    "for oak in oak_list:\n",
    "    print(oak)\n",
    "\n",
    "# use index\n",
    "oak_num = len(oak_list)\n",
    "for i in range(oak_num):\n",
    "    print(oak_list[i])\n",
    "    \n",
    "# use enumerate\n",
    "for i, oak in enumerate(oak_list):\n",
    "    print(i,oak)\n",
    "    \n",
    "# enumerate is equivalent to\n",
    "for i, oak in zip(range(len(oak_list)),oak_list):\n",
    "    print(i,oak)\n",
    "\n",
    "# enumerate function can be very handy to get access to both index and contents at the same time"
   ]
  },
  {
   "cell_type": "code",
   "execution_count": null,
   "metadata": {},
   "outputs": [],
   "source": [
    "# while loop\n",
    "i = 0\n",
    "while i < len(oak_list):\n",
    "    print(oak_list[i])\n",
    "    i = i+1"
   ]
  },
  {
   "cell_type": "code",
   "execution_count": null,
   "metadata": {},
   "outputs": [],
   "source": [
    "# conditionals and flow control (break/continue)\n",
    "\n",
    "maple_list=['Acer saccharum','Acer rubrum','Acer platanoides']\n",
    "\n",
    "\n",
    "tree_list = oak_list + maple_list # + can also operate on list!\n",
    "\n",
    "print(tree_list)\n",
    "\n",
    "for i, tree in enumerate(tree_list):\n",
    "    if tree.split(' ')[0] == 'Quercus':\n",
    "        continue # skip oaks\n",
    "    \n",
    "    if tree == 'Acer rubrum':\n",
    "        break # break out of the loop when encountering red maple\n",
    "    \n",
    "    print(i,tree)\n",
    "    \n",
    "    \n",
    "    "
   ]
  },
  {
   "cell_type": "code",
   "execution_count": null,
   "metadata": {},
   "outputs": [],
   "source": [
    "# python has lots of tricks for working with lists\n",
    "\n",
    "# list comprehension\n",
    "squares = [n**2 for n in range(10)]\n",
    "print(squares)\n",
    "\n",
    "Cap_Genus_list = [tree.split(' ')[0].upper()+' '+tree.split(' ')[1] for tree in tree_list]\n",
    "print(Cap_Genus_list)\n"
   ]
  },
  {
   "cell_type": "markdown",
   "metadata": {},
   "source": [
    "**1.4 Tuples and Dictionaries**\n",
    "\n",
    "Tuples are similar to lists, but they are ***immutable*** - they can not be extended or modified. So it is *safe* structure to pack together heterogeneous data that you do not want to change (e.g. results of a function)."
   ]
  },
  {
   "cell_type": "code",
   "execution_count": null,
   "metadata": {},
   "outputs": [],
   "source": [
    "genus='Quercus'\n",
    "species='rubrum'\n",
    "diameter=15.\n",
    "is_alive=True\n",
    "tree = (genus,species,diameter,is_alive)\n",
    "print(tree)\n",
    "print(tree[1]) # can be indexed like arrays\n",
    "\n",
    "a,b,c,d = tree # can be unpacked\n",
    "print(a,b,c,d)\n",
    "\n",
    "tree[2] = 20. # error"
   ]
  },
  {
   "cell_type": "markdown",
   "metadata": {},
   "source": [
    "Dictionaries are useful ***unordered*** structure to map **keys** to **values**"
   ]
  },
  {
   "cell_type": "code",
   "execution_count": null,
   "metadata": {},
   "outputs": [],
   "source": [
    "tree_dict = {'genus' : 'Quercus',\n",
    "             'species' : 'rubrum',\n",
    "             'diameter' : 15.,\n",
    "             'is_alive' : True}\n",
    "print(tree_dict)\n",
    "\n",
    "# OR\n",
    "tree_dict={} # initialize an empty dictionary using {}\n",
    "tree_dict['genus'] = 'Quercus'\n",
    "tree_dict['species'] = 'rubrum'\n",
    "tree_dict['diameter'] = 15.\n",
    "tree_dict['is_alive'] = True\n",
    "\n",
    "print(tree_dict)\n",
    "\n",
    "print('age' in tree_dict.keys())\n",
    "print('diameter' in tree_dict.keys())\n",
    "\n",
    "for key, val in tree_dict.items():\n",
    "    print(key,val)\n",
    "\n",
    "\n"
   ]
  },
  {
   "cell_type": "markdown",
   "metadata": {},
   "source": [
    "### Challenge 1: Convert date string to decimal year"
   ]
  },
  {
   "cell_type": "code",
   "execution_count": null,
   "metadata": {},
   "outputs": [],
   "source": [
    "date_str=\"2021-Feb-10\""
   ]
  },
  {
   "cell_type": "markdown",
   "metadata": {},
   "source": [
    "---\n",
    "### 2. Numpy and Functions\n",
    "\n",
    "Numpy is one of the most fundamental parts of the python \"ecosystem\" for science. Lots of packages are built on top of it.\n",
    "\n",
    "Numpy includes support for large, multi-dimensional arrays and matrices, along with a large collection of high-level mathematical functions."
   ]
  },
  {
   "cell_type": "code",
   "execution_count": null,
   "metadata": {},
   "outputs": [],
   "source": [
    "# import the package, similar to library command in R\n",
    "import numpy as np  # notate the namespace to more specifically call numpy functions"
   ]
  },
  {
   "cell_type": "code",
   "execution_count": null,
   "metadata": {},
   "outputs": [],
   "source": [
    "arr = np.array([11.,12.5, 5.,7.])\n",
    "print(arr.dtype)\n",
    "print(arr.shape)\n"
   ]
  },
  {
   "cell_type": "code",
   "execution_count": null,
   "metadata": {},
   "outputs": [],
   "source": [
    "arr = np.array([[1,2,3],[4,5,6]])\n",
    "print(arr.dtype)\n",
    "print(arr.shape)\n",
    "print(arr)\n",
    "\n",
    "# note that python's matrix is column-first (c-style)\n",
    "# elements in the last column are stored next to each other in the memory\n",
    "# so any operation that manipulate the last column will be more efficient \n",
    "# than operating the first column\n",
    "print(arr.ravel()) # ravel to one dimensional array\n"
   ]
  },
  {
   "cell_type": "code",
   "execution_count": null,
   "metadata": {},
   "outputs": [],
   "source": [
    "# useful commands to generate data/index\n",
    "\n",
    "print(np.arange(1.,2.,0.25)) # left inclusive\n",
    "print(np.linspace(1.,2.,5)) # left and right inclusive\n",
    "print(np.logspace(1.,2.,5)) # default has a 10-base\n",
    "\n",
    "# matric creation\n",
    "print(np.zeros((3,3))) # 3-by-3 zero matrix\n",
    "print(np.ones((4,4))) # 4-by-4 unity matrix\n",
    "print(np.diag(np.arange(4))) # diagonal matrix\n",
    "\n",
    "lon = np.linspace(-100,-80,21)\n",
    "lat = np.linspace(20,30,11)\n",
    "\n",
    "xx,yy = np.meshgrid(lat,lon) # useful for plotting spatial maps\n",
    "print(xx.shape,yy.shape)\n",
    "print(xx)"
   ]
  },
  {
   "cell_type": "markdown",
   "metadata": {},
   "source": [
    "Lots of array operations in numpy are available. All the familiar arithmetic operators are applied on an element-by-element basis"
   ]
  },
  {
   "cell_type": "code",
   "execution_count": null,
   "metadata": {},
   "outputs": [],
   "source": [
    "abundance_mat = np.random.random(xx.shape) \n",
    "# generate a [0,1) random matrix with the same shape as xx\n",
    "print(abundance_mat)"
   ]
  },
  {
   "cell_type": "code",
   "execution_count": null,
   "metadata": {},
   "outputs": [],
   "source": [
    "print(abundance_mat > 0.1) # places with abudnance larger than 0.1\n",
    "print(sum((abundance_mat > 0.1).ravel())) # total number of elements with abundance larger than 0.1\n",
    "print(sum((abundance_mat > 0.1).ravel()) / len(abundance_mat.ravel())) # should be close to 0.9"
   ]
  },
  {
   "cell_type": "code",
   "execution_count": null,
   "metadata": {},
   "outputs": [],
   "source": [
    "# numpy is efficient in matrix manipulation\n",
    "# let's use a dot product as an example\n",
    "\n",
    "# define a function to do dot product ourselves\n",
    "def my_dot_prod(A,B):\n",
    "    '''\n",
    "        This is documentation for a function\n",
    "    '''\n",
    "    \n",
    "    C = np.zeros_like(A)\n",
    "    \n",
    "    length = len(C.ravel())\n",
    "    \n",
    "    for i in range(length):\n",
    "        C[i] = A[i] * B[i]\n",
    "        \n",
    "    return C\n",
    "\n",
    "# use numpy dot product\n",
    "def numpy_prod(A,B):\n",
    "    \n",
    "    return A * B\n",
    "\n",
    "\n",
    "# lets check their performance\n",
    "A = np.random.random(100)\n",
    "B = np.random.random(100)\n",
    "\n",
    "%timeit my_dot_prod(A,B)\n",
    "\n",
    "%timeit numpy_prod(A,B)\n",
    "    "
   ]
  },
  {
   "cell_type": "markdown",
   "metadata": {},
   "source": [
    "Note that values of numeric variables changed in fuctions will not be kept but values of lists/matrices changed in python functions will be kept."
   ]
  },
  {
   "cell_type": "code",
   "execution_count": null,
   "metadata": {},
   "outputs": [],
   "source": [
    "def modify_values(a):\n",
    "    a = 1\n",
    "    b = 1\n",
    "    print(f'in function a,b = {a}, {b}')\n",
    "    return (a,b)\n",
    "\n",
    "a, b = 0, 0\n",
    "new_a,new_b = modify_values(a)\n",
    "\n",
    "print(f'after function a,b = {a}, {b}')\n",
    "print(f'after function new_a,new_b = {new_a}, {new_b}')\n"
   ]
  },
  {
   "cell_type": "code",
   "execution_count": null,
   "metadata": {},
   "outputs": [],
   "source": [
    "# note that values of lists/matrices changed in python functions will be kept\n",
    "\n",
    "\n",
    "def modify_list(A,B):\n",
    "    A.append('new_element')\n",
    "    B[0] = 1.\n",
    "    return\n",
    "\n",
    "A = []\n",
    "B = np.arange(5)\n",
    "modify_list(A,B)\n",
    "print(A)\n",
    "print(B)\n",
    "\n"
   ]
  },
  {
   "cell_type": "markdown",
   "metadata": {},
   "source": [
    "### Challenge 2. Function to account for metabolic temperature sensitivity.\n",
    "Various metabolic processes are sensitive to temperature due to changes in enzymatic activities. A simple quantitative descritpion of such temperature senstivity is through Q10 (qotient every 10 degree Celcius):\n",
    "\n",
    "$X = X_0\\times Q_{10}^{\\frac{T-T_0}{10}}$ \n",
    "\n",
    "Write a function to calculate X for input T array given a tuple containing $X_0$, $T_0$, and $Q_{10}$.\n",
    "\n",
    "What if X saturates after a certain optimal temperature $T_{opt}$? (i.e., $X(T) = X(T_{opt})$ when $T > T_{opt}$)"
   ]
  },
  {
   "cell_type": "code",
   "execution_count": null,
   "metadata": {},
   "outputs": [],
   "source": [
    "params = (10.5,25.,2.) # X_0, T_0, and Q_10\n",
    "T_opt = 35."
   ]
  },
  {
   "cell_type": "markdown",
   "metadata": {},
   "source": [
    "---\n",
    "### 3. Pandas, Matplotlib, and Cartopy\n",
    "\n",
    "[Pandas](https://pandas.pydata.org/) is an open source library providing high-performance, easy-to-use data structures and data analysis. It organizes data similarly to R dataframes and is particularly suited to tabular data (e.g. data in excel spreadsheet/csv files)\n",
    "\n",
    "[Matplotlib](https://matplotlib.org/) is the backbone of data visualization in python.\n",
    "\n",
    "[Cartopy](https://scitools.org.uk/cartopy/docs/latest/) is the package designed for geospatial data analysis and visualization"
   ]
  },
  {
   "cell_type": "code",
   "execution_count": null,
   "metadata": {},
   "outputs": [],
   "source": [
    "import pandas as pd\n",
    "\n",
    "# the basic structure is Series - one-dimensional array with index.\n",
    "\n",
    "Tree_ID = ['QR1','QR2','QA1','QA2','AR1','AR2']\n",
    "diameter = [15.5,5.5,20.5,30.,55.,65.]\n",
    "\n",
    "d_series = pd.Series(diameter,index=Tree_ID)\n",
    "print(d_series)\n"
   ]
  },
  {
   "cell_type": "code",
   "execution_count": null,
   "metadata": {},
   "outputs": [],
   "source": [
    "from matplotlib import pyplot as plt # import matplotlib\n",
    "# allow for inline plotting in jupyter notebook\n",
    "%matplotlib inline "
   ]
  },
  {
   "cell_type": "code",
   "execution_count": null,
   "metadata": {},
   "outputs": [],
   "source": [
    "fig = plt.figure(figsize=(3,4)) # figsize in inches\n",
    "axis_handle = d_series.plot(kind='bar')\n",
    "# or d_series.plot.bar()\n"
   ]
  },
  {
   "cell_type": "markdown",
   "metadata": {},
   "source": [
    "**Indexing**\n",
    "We can get values using .loc attribute"
   ]
  },
  {
   "cell_type": "code",
   "execution_count": null,
   "metadata": {},
   "outputs": [],
   "source": [
    "print(d_series.loc[['QR1','QA1']]) # use index\n",
    "print(d_series.iloc[[0,2]]) # use raw position"
   ]
  },
  {
   "cell_type": "markdown",
   "metadata": {},
   "source": [
    "**DataFrame**\n",
    "equivalent to a table in a spreadsheet"
   ]
  },
  {
   "cell_type": "code",
   "execution_count": null,
   "metadata": {},
   "outputs": [],
   "source": [
    "# assume we know the allometric equation to convert tree diameter to tree height\n",
    "tree_height = np.exp(1.0 + 0.5 * np.log(d_series.values))\n",
    "\n",
    "# add tree species\n",
    "species_dict = {'QA' : 'Quercus Alba',\n",
    "                'QR' : 'Quercus Rubrum',\n",
    "                'AR' : 'Acer Rubrum'}\n",
    "\n",
    "tree_species = [species_dict[tree_index[0:2]] for tree_index in d_series.index]\n",
    "\n",
    "# create a datafrome from a dictionary\n",
    "data = {'Species' : tree_species,\n",
    "        'Diameter' : d_series.values,\n",
    "        'Height' : tree_height}\n",
    "\n",
    "df = pd.DataFrame(data,index=Tree_ID)\n",
    "print(df)\n"
   ]
  },
  {
   "cell_type": "code",
   "execution_count": null,
   "metadata": {},
   "outputs": [],
   "source": [
    "df.info()"
   ]
  },
  {
   "cell_type": "code",
   "execution_count": null,
   "metadata": {},
   "outputs": [],
   "source": [
    "df.head(2)"
   ]
  },
  {
   "cell_type": "code",
   "execution_count": null,
   "metadata": {},
   "outputs": [],
   "source": [
    "df.min()"
   ]
  },
  {
   "cell_type": "code",
   "execution_count": null,
   "metadata": {},
   "outputs": [],
   "source": [
    "df.mean()"
   ]
  },
  {
   "cell_type": "code",
   "execution_count": null,
   "metadata": {},
   "outputs": [],
   "source": [
    "df.std()"
   ]
  },
  {
   "cell_type": "code",
   "execution_count": null,
   "metadata": {},
   "outputs": [],
   "source": [
    "df.describe()"
   ]
  },
  {
   "cell_type": "markdown",
   "metadata": {},
   "source": [
    "Add column to a DataFrame"
   ]
  },
  {
   "cell_type": "code",
   "execution_count": null,
   "metadata": {},
   "outputs": [],
   "source": [
    "df['Volume'] = df['Height'] * np.pi * (df['Diameter'] / 200.) ** 2. # assume each tree is a cylinder\n",
    "df.describe()"
   ]
  },
  {
   "cell_type": "markdown",
   "metadata": {},
   "source": [
    "Now let's explore pandas and matplotlib using a real data set\n",
    "Biomass And Allometry Database for woody plants ([BAAD](https://github.com/dfalster/baad))"
   ]
  },
  {
   "cell_type": "code",
   "execution_count": null,
   "metadata": {},
   "outputs": [],
   "source": [
    "# I stored the data on my github repo\n",
    "# Note we have to use 'raw csv files' (raw.githubusercontent.com)\n",
    "baad_data_url = 'https://raw.githubusercontent.com/xiangtaoxu/QuantitativeEcology/main/Lab1/baad_data.csv'\n",
    "baad_dictionary_url = 'https://raw.githubusercontent.com/xiangtaoxu/QuantitativeEcology/main/Lab1/baad_dictionary.csv'\n",
    "\n",
    "# encodings are not always necessary \n",
    "# Here I include them because the raw csv is not compatible with utf-8 encoding\n",
    "\n",
    "df_data = pd.read_csv(baad_data_url, encoding='latin_1') # can also read local files\n",
    "df_dict = pd.read_csv(baad_dictionary_url, encoding='latin_1')"
   ]
  },
  {
   "cell_type": "code",
   "execution_count": null,
   "metadata": {},
   "outputs": [],
   "source": [
    "df_data.describe()"
   ]
  },
  {
   "cell_type": "code",
   "execution_count": null,
   "metadata": {},
   "outputs": [],
   "source": [
    "print(df_dict)"
   ]
  },
  {
   "cell_type": "code",
   "execution_count": null,
   "metadata": {},
   "outputs": [],
   "source": [
    "# plot two figures showing the distribution of latitude of the samples and heights of the samples\n",
    "panel_x,panel_y=1,2\n",
    "\n",
    "fig, axes = plt.subplots(panel_x,panel_y,figsize=(panel_y*3,panel_x*3))\n",
    "# here note that the order of x and y are reversed when defining figsize\n",
    "\n",
    "df_data.plot(y='latitude',kind='hist',ax=axes[0],bins=20)\n",
    "df_data.plot(y='h.t',kind='hist',ax=axes[1],bins=np.linspace(0.,50.,20))\n",
    "\n",
    "fig.tight_layout()\n",
    "plt.savefig('./baad_pandas_hist.png',dpi=300)"
   ]
  },
  {
   "cell_type": "code",
   "execution_count": null,
   "metadata": {},
   "outputs": [],
   "source": [
    "# scatter plot diameter and height and diameter with leaf area\n",
    "panel_x,panel_y=2,1\n",
    "\n",
    "# we ask the two figures to share x\n",
    "fig, axes = plt.subplots(panel_x,panel_y,figsize=(panel_y*3,panel_x*3),\n",
    "                         sharex=True)\n",
    "# here note that the order of x and y are reversed when defining figsize\n",
    "\n",
    "df_data.plot(x='d.bh',y='h.t',kind='scatter',ax=axes[0],s=10,c='r',alpha=0.5\n",
    "            ,loglog=True,xlim=[1e-4,10.])\n",
    "axes[0].set_title('DBH vs Height')\n",
    "\n",
    "df_data.plot(x='d.bh',y='a.lf',kind='scatter',ax=axes[1],s=20,c='b',alpha=0.5\n",
    "            ,loglog=True,xlim=[1e-4,10.])\n",
    "axes[1].set_title('DBH vs Leaf Area')\n",
    "\n",
    "fig.tight_layout()\n",
    "plt.savefig('./baad_pandas_scatter.png',dpi=300)"
   ]
  },
  {
   "cell_type": "markdown",
   "metadata": {},
   "source": [
    "There are more tricks to plot with pandas. Check [here](https://pandas.pydata.org/pandas-docs/stable/user_guide/visualization.html) for more.\n",
    "\n",
    "Here I am showing one more example of grouping"
   ]
  },
  {
   "cell_type": "code",
   "execution_count": null,
   "metadata": {},
   "outputs": [],
   "source": [
    "#subset df by selecting forest vegetation types\n",
    "df_sub = df_data[df_data['vegetation'].isin(['BorF','Sav','TempF','TropRF','TropSF','Wo'])]\n",
    "df_sub.to_csv('./baad_forest.csv')\n",
    "\n",
    "fig = plt.figure(figsize=(12,3))\n",
    "df_sub.boxplot(column=['h.t'],by=['vegetation'])\n"
   ]
  },
  {
   "cell_type": "markdown",
   "metadata": {},
   "source": [
    "### 4. Spatial maps with Cartopy\n"
   ]
  },
  {
   "cell_type": "code",
   "execution_count": null,
   "metadata": {},
   "outputs": [],
   "source": [
    "import cartopy.crs as ccrs"
   ]
  },
  {
   "cell_type": "markdown",
   "metadata": {},
   "source": [
    "Let's start with a global map with coastlines"
   ]
  },
  {
   "cell_type": "code",
   "execution_count": null,
   "metadata": {},
   "outputs": [],
   "source": [
    "fig = plt.figure()\n",
    "\n",
    "ax = plt.axes(projection=ccrs.Mollweide())\n",
    "\n",
    "# you can try a few more projections such as\n",
    "# Mercator (not suggested to use due to extortion over the polar regions)\n",
    "# InterruptedGoodeHomolosine\n",
    "# SouthPolarStereo\n",
    "\n",
    "ax.stock_img()\n",
    "\n",
    "ax.coastlines()\n",
    "\n",
    "# add sample location from the baad database\n",
    "baad_latlon=df_data[['longitude','latitude']].sample(100) # randomly sample 100\n",
    "\n",
    "ax.plot(baad_latlon['longitude'].values,\n",
    "        baad_latlon['latitude'],\n",
    "        marker='o',\n",
    "        markerfacecolor='r',\n",
    "        linestyle='',\n",
    "        transform=ccrs.PlateCarree())\n",
    "\n",
    "plt.show()"
   ]
  },
  {
   "cell_type": "markdown",
   "metadata": {},
   "source": [
    "Then, let's try to overlay the synthetic abudnance data over US state boundaries"
   ]
  },
  {
   "cell_type": "code",
   "execution_count": null,
   "metadata": {},
   "outputs": [],
   "source": [
    "import cartopy.feature as cfeature\n",
    "\n",
    "fig = plt.figure()\n",
    "\n",
    "# projection is for plot\n",
    "# transform is for data\n",
    "\n",
    "plot_proj = ccrs.LambertConformal()\n",
    "latlon_proj = ccrs.PlateCarree() # used if you have lat/lon data\n",
    "             \n",
    "ax = plt.axes(projection=plot_proj)\n",
    "\n",
    "\n",
    "\n",
    "\n",
    "lon = np.linspace(-100, -80, 21)\n",
    "lat = np.linspace(20, 30, 11)\n",
    "\n",
    "lon2d, lat2d = np.meshgrid(lon, lat)\n",
    "\n",
    "\n",
    "\n",
    "abundance_mat = np.random.random(lon2d.shape) \n",
    "\n",
    "\n",
    "\n",
    "hpc = ax.pcolormesh(lon2d, lat2d,abundance_mat,vmin=0,vmax=1,transform=latlon_proj)\n",
    "ax.set_extent([-120,-70,15,35],latlon_proj)\n",
    "ax.coastlines()\n",
    "\n",
    "\n",
    "# add state borders\n",
    "\n",
    "# Create a feature for States/Admin 1 regions at 1:50m from Natural Earth\n",
    "\n",
    "ax.add_feature(cfeature.STATES,facecolor='none',edgecolor='gray')\n",
    "\n",
    "\n",
    "plt.colorbar(hpc,ax=ax, shrink=.5,label='Abundance')\n",
    "\n",
    "plt.show()\n"
   ]
  },
  {
   "cell_type": "markdown",
   "metadata": {},
   "source": [
    "### Challenge 3. Plot global distribution of sampling density in BAAD database\n",
    "\n",
    "Count the sampling density for a 2-by-2 degree windows and plot it over a global map"
   ]
  },
  {
   "cell_type": "code",
   "execution_count": null,
   "metadata": {},
   "outputs": [],
   "source": []
  }
 ],
 "metadata": {
  "kernelspec": {
   "display_name": "Python 3",
   "language": "python",
   "name": "python3"
  },
  "language_info": {
   "codemirror_mode": {
    "name": "ipython",
    "version": 3
   },
   "file_extension": ".py",
   "mimetype": "text/x-python",
   "name": "python",
   "nbconvert_exporter": "python",
   "pygments_lexer": "ipython3",
   "version": "3.8.5"
  }
 },
 "nbformat": 4,
 "nbformat_minor": 4
}
