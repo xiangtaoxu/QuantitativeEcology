{
 "cells": [
  {
   "cell_type": "markdown",
   "metadata": {
    "slideshow": {
     "slide_type": "slide"
    }
   },
   "source": [
    "# BIOEE 4940 : **Introduction to Quantitative Analysis in Ecology**\n",
    "### ***Spring 2021***\n",
    "### Instructor: **Xiangtao Xu** ( ✉️ xx286@cornell.edu)\n",
    "### Teaching Assistant: **Yanqiu (Autumn) Zhou** (✉️ yz399@cornell.edu)\n",
    "\n",
    "---\n",
    "\n",
    "## <span style=\"color:royalblue\">Lab 1</span> *Python Basics, I/O, and Visualization*\n",
    "*Partly adapted from [Earth and Environmental Data Science](https://earth-env-data-science.github.io/intro)*"
   ]
  },
  {
   "cell_type": "markdown",
   "metadata": {},
   "source": [
    "* Python is an interpreted, high-level and general-purpose programming language, first released in 1991 by Guido van Rossum.\n",
    "\n",
    "* R vs Python? (read more [here](https://dev.to/daveparr/the-real-difference-tm-between-python-and-r-for-data-science-280i))\n",
    "\n",
    "<img src=\"https://res.cloudinary.com/practicaldev/image/fetch/s--ReZqX08z--/c_limit%2Cf_auto%2Cfl_progressive%2Cq_auto%2Cw_880/https://pbs.twimg.com/media/Ce8VP0FWIAI0ad2%3Fformat%3Djpg%26name%3Dsmall\" alt=\"R vs Python\" style=\"width: 600px;\"/>\n",
    "\n",
    "\n",
    "---"
   ]
  },
  {
   "cell_type": "markdown",
   "metadata": {},
   "source": [
    "### 1. Fundamentals of Python\n",
    "\n",
    "In this section, we will talk about some fundamental features of the Python language, including basic **data types, flow control, and mathematical operations**. Generally, these are also key aspects to quickly understand a programming langugage and its difference with other langugages. Some delicacies in the fundamentals might also lead to common bugs in your analyses.\n",
    "\n",
    "Currently, the majority of the science community uses Python 3 although you might encounter legacy codes written in Python 2 in your own research. Sometimes, you will run into errors when running Python 2 codes with Python 3 because there are several key changes in Python 3, such as:\n",
    "\n",
    "* `print` is a function\n",
    "* Integer division returns a float \n",
    "* Unicode is used for encoding code\n",
    "* ..."
   ]
  },
  {
   "cell_type": "markdown",
   "metadata": {},
   "source": [
    "**1.1. Numbers and Math**\n",
    "\n",
    "Numbers further include integers and floats (real numbers), which are stored differently in computer memory and might show different behaviors under mathematical and other operations.\n",
    "\n"
   ]
  },
  {
   "cell_type": "code",
   "execution_count": 1,
   "metadata": {},
   "outputs": [
    {
     "name": "stdout",
     "output_type": "stream",
     "text": [
      "<class 'int'>\n",
      "<class 'float'>\n"
     ]
    }
   ],
   "source": [
    "# comments are anything that comes after the \"#\" symbol\n",
    "a_int = 1 # assign an integer 1 to a_int\n",
    "a_float = 1. # assign a float 1 to a_float\n",
    "\n",
    "# python also support multiple destination variables when assigning values\n",
    "a_int, a_float = 1 , 1.\n",
    "\n",
    "# check their types\n",
    "print(type(a_int))\n",
    "print(type(a_float))"
   ]
  },
  {
   "cell_type": "markdown",
   "metadata": {},
   "source": [
    "Basic mathematical operations in python includes arithmetic and boolean logic."
   ]
  },
  {
   "cell_type": "code",
   "execution_count": 4,
   "metadata": {},
   "outputs": [
    {
     "name": "stdout",
     "output_type": "stream",
     "text": [
      "0.8\n"
     ]
    }
   ],
   "source": [
    "# addition / subtraction / multiplication / division\n",
    "\n",
    "print(1 + 1 - 2 * 3 / 5)\n"
   ]
  },
  {
   "cell_type": "markdown",
   "metadata": {},
   "source": [
    "Note that the results is a float although we only used integer. This is because **division in Python 3 by default returns a float**, while some other languages (e.g. C/Fortran) will truncate the fractions and return an integer, which can lead to bugs in your analysis"
   ]
  },
  {
   "cell_type": "code",
   "execution_count": 9,
   "metadata": {},
   "outputs": [
    {
     "name": "stdout",
     "output_type": "stream",
     "text": [
      "1024\n",
      "1.4142135623730951\n",
      "1.4142\n",
      "5\n",
      "1\n"
     ]
    }
   ],
   "source": [
    "## exponentiation\n",
    "\n",
    "print (2**10)\n",
    "print (2**0.5)\n",
    "\n",
    "## rounding\n",
    "\n",
    "print(round(2**0.5, 4))\n",
    "\n",
    "# modulo operation\n",
    "\n",
    "print(12 % 7)   # get the modulus\n",
    "print(12 // 7)  # get the integer\n",
    "\n"
   ]
  },
  {
   "cell_type": "code",
   "execution_count": 15,
   "metadata": {},
   "outputs": [
    {
     "name": "stdout",
     "output_type": "stream",
     "text": [
      "False\n",
      "True\n",
      "True\n",
      "False\n"
     ]
    }
   ],
   "source": [
    "# Logic and Boolean and relational operator\n",
    "\n",
    "is_weekday = True\n",
    "is_snow = False\n",
    "\n",
    "print(is_weekday and is_snow)\n",
    "print(is_weekday or is_snow)\n",
    "print(not (is_weekday and is_snow))\n",
    "print((not is_weekday) and is_snow) # try to use parenthesis whenever possible to improve readability"
   ]
  },
  {
   "cell_type": "code",
   "execution_count": 16,
   "metadata": {},
   "outputs": [
    {
     "name": "stdout",
     "output_type": "stream",
     "text": [
      "True\n",
      "True\n",
      "True\n",
      "False\n"
     ]
    }
   ],
   "source": [
    "# comparison of number values\n",
    "\n",
    "a = 5\n",
    "\n",
    "print(a > 1)\n",
    "print(a < 10.)\n",
    "print(a == 5)  # equal\n",
    "print(a != 5)  # not equal"
   ]
  },
  {
   "cell_type": "markdown",
   "metadata": {},
   "source": [
    "Try to avoid using `==` or `!=` for floats because there could be **numerical errors** after complex mathematical operations."
   ]
  },
  {
   "cell_type": "code",
   "execution_count": 17,
   "metadata": {},
   "outputs": [
    {
     "name": "stdout",
     "output_type": "stream",
     "text": [
      "5.000000000000083\n",
      "False\n",
      "True\n"
     ]
    }
   ],
   "source": [
    "# a simple example for numerical errors\n",
    "\n",
    "b = (5 ** 0.0001) ** 10000\n",
    "print(b)\n",
    "print(a == b)\n",
    "\n",
    "\n",
    "# instead compare whether the difference is small enough\n",
    "abs_tol = 1e-8 # another way to define floats using scientific notation\n",
    "print(abs(a - b) < abs_tol) # abs() returns the absolute value\n"
   ]
  },
  {
   "cell_type": "markdown",
   "metadata": {},
   "source": [
    "**1.2 Strings**\n",
    "\n",
    "Python has powerful supports for string operations that can comes very handy for dealing with text/character-based data (e.g. species names, genome sequences, qualitative data).\n",
    "\n",
    "Note that the indexing in python **starts from 0 and is left inclusive**."
   ]
  },
  {
   "cell_type": "code",
   "execution_count": 72,
   "metadata": {},
   "outputs": [
    {
     "name": "stdout",
     "output_type": "stream",
     "text": [
      "False\n",
      "\"Python bivittatus\"\n",
      "\"\n",
      "19\n",
      "\"\n",
      "\"\n",
      "Python\n"
     ]
    },
    {
     "ename": "IndexError",
     "evalue": "string index out of range",
     "output_type": "error",
     "traceback": [
      "\u001b[0;31m---------------------------------------------------------------------------\u001b[0m",
      "\u001b[0;31mIndexError\u001b[0m                                Traceback (most recent call last)",
      "\u001b[0;32m<ipython-input-72-61bbbdd4c21d>\u001b[0m in \u001b[0;36m<module>\u001b[0;34m\u001b[0m\n\u001b[1;32m     16\u001b[0m \u001b[0;34m\u001b[0m\u001b[0m\n\u001b[1;32m     17\u001b[0m \u001b[0;31m# this one will throw out an error\u001b[0m\u001b[0;34m\u001b[0m\u001b[0;34m\u001b[0m\u001b[0;34m\u001b[0m\u001b[0m\n\u001b[0;32m---> 18\u001b[0;31m \u001b[0mprint\u001b[0m\u001b[0;34m(\u001b[0m\u001b[0mburmese_python\u001b[0m\u001b[0;34m[\u001b[0m\u001b[0mname_length\u001b[0m\u001b[0;34m]\u001b[0m\u001b[0;34m)\u001b[0m\u001b[0;34m\u001b[0m\u001b[0;34m\u001b[0m\u001b[0m\n\u001b[0m",
      "\u001b[0;31mIndexError\u001b[0m: string index out of range"
     ]
    }
   ],
   "source": [
    "# string definition, use either \"\" or ''\n",
    "\n",
    "treatment_level = \"1\"\n",
    "print(type(treatment_level) is int)\n",
    "\n",
    "burmese_python = \"\\\"Python bivittatus\\\"\"\n",
    "print(burmese_python)\n",
    "\n",
    "# index starts from zero and is left inclusive\n",
    "print(burmese_python[0])\n",
    "name_length = len(burmese_python)\n",
    "print(name_length)\n",
    "print(burmese_python[name_length-1])\n",
    "print(burmese_python[-1])\n",
    "print(burmese_python[1:7])\n",
    "\n",
    "# this one will throw out an error\n",
    "print(burmese_python[name_length])\n"
   ]
  },
  {
   "cell_type": "markdown",
   "metadata": {},
   "source": [
    "String is a built-in class in python, which has various useful class methods. See [here](https://docs.python.org/2.5/lib/string-methods.html) for more. Here I list a few examples."
   ]
  },
  {
   "cell_type": "code",
   "execution_count": 82,
   "metadata": {},
   "outputs": [
    {
     "name": "stdout",
     "output_type": "stream",
     "text": [
      "QUERCUS RUBRA\n",
      "QUERCUS ALBA\n",
      "QUERCUS VELUTINA\n",
      "['Quercus rubra', 'Quercus alba', 'Quercus velutina']\n",
      "Quercus rubra is the scientific name of red oak\n",
      "14\n",
      "Quercus coccinea\n",
      "Quercus alba\n",
      "Quercus velutina\n",
      "\n",
      "original oaks:\n",
      " Quercus rubra\n",
      "Quercus alba\n",
      "Quercus velutina \n",
      "\n",
      "duplicate myself duplicate myself duplicate myself duplicate myself duplicate myself \n"
     ]
    }
   ],
   "source": [
    "# use \"\"\" for long strings\n",
    "oaks = \"\"\"Quercus rubra\n",
    "Quercus alba\n",
    "Quercus velutina\"\"\"\n",
    "\n",
    "# capitalize, use tab to auto-complete the command in jupyter notebook\n",
    "print(oaks.upper())\n",
    "\n",
    "# split\n",
    "print(oaks.split('\\n')) # returns a list contains all the substrings\n",
    "\n",
    "# join\n",
    "print(' '.join(['Quercus','rubra','is','the','scientific','name','of','red','oak']))\n",
    "\n",
    "# find the second occurance of a sub-string\n",
    "print(oaks.find(\"Quercus\",2))\n",
    "\n",
    "# replace (does not change the original string)\n",
    "print(oaks.replace(\"rubra\",\"coccinea\"))\n",
    "print('\\noriginal oaks:\\n',oaks,'\\n')\n",
    "\n",
    "# String math operations\n",
    "print((\"duplicate\" + \" \" + \"myself \") * 5) # multiplication with positive integers"
   ]
  },
  {
   "cell_type": "markdown",
   "metadata": {},
   "source": [
    "Strings can be converted from or into other numerical data types"
   ]
  },
  {
   "cell_type": "code",
   "execution_count": 48,
   "metadata": {},
   "outputs": [
    {
     "name": "stdout",
     "output_type": "stream",
     "text": [
      "1\n",
      "1.0\n",
      "the value of π is 3.1415926\n",
      "the value of π is 3.14\n",
      "1.235e+07\n",
      "Today is 2021-02-10\n"
     ]
    }
   ],
   "source": [
    "# string to numbers\n",
    "num_str = '1'\n",
    "print(int(num_str))\n",
    "print(float(num_str))\n",
    "\n",
    "# numbers to string, check https://realpython.com/python-f-strings/ and https://pyformat.info/ for more details and tricks\n",
    "\n",
    "pi_val = 3.1415926\n",
    "print(f'the value of \\u03C0 is {pi_val}')\n",
    "\n",
    "# formatting floating numbers\n",
    "# L.Sf where L indicates the total length of the final string\n",
    "# S indicates the number of digits\n",
    "print(f'the value of \\u03C0 is {pi_val:4.2f}')\n",
    "\n",
    "# formatting floating numbers into scientific notification\n",
    "print(f'{12345678:5.3e}')\n",
    "\n",
    "year, month, day = 2021, 2, 10\n",
    "print(f'Today is {year:4d}-{month:02d}-{day:2d}') # formatting the integers, 02 means to use 0 for padding\n",
    "\n",
    "\n"
   ]
  },
  {
   "cell_type": "markdown",
   "metadata": {},
   "source": [
    "**1.3 Lists and Loops**\n",
    "\n",
    "List is the built-in structures to represent arrays, which can host heterogenous data types"
   ]
  },
  {
   "cell_type": "code",
   "execution_count": 62,
   "metadata": {},
   "outputs": [],
   "source": [
    "oaks = \"\"\"Quercus rubra\n",
    "Quercus alba\n",
    "Quercus velutina\"\"\"\n",
    "oak_list = oaks.split('\\n')\n",
    "print(oak_list)\n",
    "\n",
    "\n",
    "# append an element\n",
    "oak_list.append(1)\n",
    "print(oak_list)\n",
    "\n",
    "# pop the last element\n",
    "oak_list.pop()\n",
    "print(oak_list)\n",
    "\n",
    "# sort the list\n",
    "oak_list.sort()\n",
    "print(oak_list)"
   ]
  },
  {
   "cell_type": "code",
   "execution_count": 67,
   "metadata": {},
   "outputs": [
    {
     "name": "stdout",
     "output_type": "stream",
     "text": [
      "Quercus alba\n",
      "Quercus rubra\n",
      "Quercus velutina\n",
      "Quercus alba\n",
      "Quercus rubra\n",
      "Quercus velutina\n",
      "0 Quercus alba\n",
      "1 Quercus rubra\n",
      "2 Quercus velutina\n",
      "0 Quercus alba\n",
      "1 Quercus rubra\n",
      "2 Quercus velutina\n"
     ]
    }
   ],
   "source": [
    "# Different methods loop over the elements of the list\n",
    "for oak in oak_list:\n",
    "    print(oak)\n",
    "\n",
    "# use index\n",
    "oak_num = len(oak_list)\n",
    "for i in range(oak_num):\n",
    "    print(oak_list[i])\n",
    "    \n",
    "# use enumerate\n",
    "for i, oak in enumerate(oak_list):\n",
    "    print(i,oak)\n",
    "    \n",
    "# enumerate is equivalent to\n",
    "for i, oak in zip(range(len(oak_list)),oak_list):\n",
    "    print(i,oak)\n",
    "\n",
    "# enumerate function can be very handy to get access to both index and contents at the same time"
   ]
  },
  {
   "cell_type": "code",
   "execution_count": 70,
   "metadata": {},
   "outputs": [],
   "source": [
    "# while loop\n",
    "i = 0\n",
    "while i < len(oak_list):\n",
    "    print(oak_list[i])\n",
    "    i = i+1"
   ]
  },
  {
   "cell_type": "code",
   "execution_count": 81,
   "metadata": {},
   "outputs": [
    {
     "name": "stdout",
     "output_type": "stream",
     "text": [
      "['Quercus alba', 'Quercus rubra', 'Quercus velutina', 'Acer saccharum', 'Acer rubrum', 'Acer platanoides']\n",
      "3 Acer saccharum\n"
     ]
    }
   ],
   "source": [
    "# conditionals and flow control (break/continue)\n",
    "\n",
    "maple_list=['Acer saccharum','Acer rubrum','Acer platanoides']\n",
    "\n",
    "\n",
    "tree_list = oak_list + maple_list # + can also operate on list!\n",
    "\n",
    "print(tree_list)\n",
    "\n",
    "for i, tree in enumerate(tree_list):\n",
    "    if tree.split(' ')[0] == 'Quercus':\n",
    "        continue # skip oaks\n",
    "    \n",
    "    if tree == 'Acer rubrum':\n",
    "        break # break out of the loop when encountering red maple\n",
    "    \n",
    "    print(i,tree)\n",
    "    \n",
    "    \n",
    "    "
   ]
  },
  {
   "cell_type": "code",
   "execution_count": 84,
   "metadata": {},
   "outputs": [
    {
     "name": "stdout",
     "output_type": "stream",
     "text": [
      "[0, 1, 4, 9, 16, 25, 36, 49, 64, 81]\n",
      "['QUERCUS alba', 'QUERCUS rubra', 'QUERCUS velutina', 'ACER saccharum', 'ACER rubrum', 'ACER platanoides']\n"
     ]
    }
   ],
   "source": [
    "# python has lots of tricks for working with lists\n",
    "\n",
    "# list comprehension\n",
    "squares = [n**2 for n in range(10)]\n",
    "print(squares)\n",
    "\n",
    "Cap_Genus_list = [tree.split(' ')[0].upper()+' '+tree.split(' ')[1] for tree in tree_list]\n",
    "print(Cap_Genus_list)\n"
   ]
  },
  {
   "cell_type": "markdown",
   "metadata": {},
   "source": [
    "**1.4 Tuples and Dictionaries**\n",
    "\n",
    "Tuples are similar to lists, but they are ***immutable*** - they can not be extended or modified. So it is *safe* structure to pack together heterogeneous data that you do not want to change (e.g. results of a function)."
   ]
  },
  {
   "cell_type": "code",
   "execution_count": 88,
   "metadata": {},
   "outputs": [
    {
     "name": "stdout",
     "output_type": "stream",
     "text": [
      "('Quercus', 'rubrum', 15.0, True)\n",
      "rubrum\n",
      "Quercus rubrum 15.0 True\n"
     ]
    },
    {
     "ename": "TypeError",
     "evalue": "'tuple' object does not support item assignment",
     "output_type": "error",
     "traceback": [
      "\u001b[0;31m---------------------------------------------------------------------------\u001b[0m",
      "\u001b[0;31mTypeError\u001b[0m                                 Traceback (most recent call last)",
      "\u001b[0;32m<ipython-input-88-6bffff7ff611>\u001b[0m in \u001b[0;36m<module>\u001b[0;34m\u001b[0m\n\u001b[1;32m     10\u001b[0m \u001b[0mprint\u001b[0m\u001b[0;34m(\u001b[0m\u001b[0ma\u001b[0m\u001b[0;34m,\u001b[0m\u001b[0mb\u001b[0m\u001b[0;34m,\u001b[0m\u001b[0mc\u001b[0m\u001b[0;34m,\u001b[0m\u001b[0md\u001b[0m\u001b[0;34m)\u001b[0m\u001b[0;34m\u001b[0m\u001b[0;34m\u001b[0m\u001b[0m\n\u001b[1;32m     11\u001b[0m \u001b[0;34m\u001b[0m\u001b[0m\n\u001b[0;32m---> 12\u001b[0;31m \u001b[0mtree\u001b[0m\u001b[0;34m[\u001b[0m\u001b[0;36m2\u001b[0m\u001b[0;34m]\u001b[0m \u001b[0;34m=\u001b[0m \u001b[0;36m20.\u001b[0m \u001b[0;31m# error\u001b[0m\u001b[0;34m\u001b[0m\u001b[0;34m\u001b[0m\u001b[0m\n\u001b[0m",
      "\u001b[0;31mTypeError\u001b[0m: 'tuple' object does not support item assignment"
     ]
    }
   ],
   "source": [
    "genus='Quercus'\n",
    "species='rubrum'\n",
    "diameter=15.\n",
    "is_alive=True\n",
    "tree = (genus,species,diameter,is_alive)\n",
    "print(tree)\n",
    "print(tree[1]) # can be indexed like arrays\n",
    "\n",
    "a,b,c,d = tree # can be unpacked\n",
    "print(a,b,c,d)\n",
    "\n",
    "tree[2] = 20. # error"
   ]
  },
  {
   "cell_type": "markdown",
   "metadata": {},
   "source": [
    "Dictionaries are useful ***unordered*** structure to map **keys** to **values**"
   ]
  },
  {
   "cell_type": "code",
   "execution_count": 90,
   "metadata": {},
   "outputs": [
    {
     "name": "stdout",
     "output_type": "stream",
     "text": [
      "{'genus': 'Quercus', 'species': 'rubrum', 'diameter': 15.0, 'is_alive': True}\n",
      "{'genus': 'Quercus', 'species': 'rubrum', 'diameter': 15.0, 'is_alive': True}\n",
      "False\n",
      "True\n",
      "genus Quercus\n",
      "species rubrum\n",
      "diameter 15.0\n",
      "is_alive True\n"
     ]
    }
   ],
   "source": [
    "tree_dict = {'genus' : 'Quercus',\n",
    "             'species' : 'rubrum',\n",
    "             'diameter' : 15.,\n",
    "             'is_alive' : True}\n",
    "print(tree_dict)\n",
    "\n",
    "# OR\n",
    "tree_dict={} # initialize an empty dictionary using {}\n",
    "tree_dict['genus'] = 'Quercus'\n",
    "tree_dict['species'] = 'rubrum'\n",
    "tree_dict['diameter'] = 15.\n",
    "tree_dict['is_alive'] = True\n",
    "\n",
    "print(tree_dict)\n",
    "\n",
    "print('age' in tree_dict.keys())\n",
    "print('diameter' in tree_dict.keys())\n",
    "\n",
    "for key, val in tree_dict.items():\n",
    "    print(key,val)\n",
    "\n",
    "\n"
   ]
  },
  {
   "cell_type": "markdown",
   "metadata": {},
   "source": [
    "### 2. Numpy and Functions\n",
    "\n",
    "Numpy is one of the most fundamental parts of the python \"ecosystem\" for science. Lots of packages are built on top of it.\n",
    "\n",
    "Numpy includes support for large, multi-dimensional arrays and matrices, along with a large collection of high-level mathematical functions."
   ]
  },
  {
   "cell_type": "code",
   "execution_count": 91,
   "metadata": {},
   "outputs": [],
   "source": [
    "# import the package, similar to library command in R\n",
    "import numpy as np  # notate the namespace to more specifically call numpy functions"
   ]
  },
  {
   "cell_type": "code",
   "execution_count": 94,
   "metadata": {},
   "outputs": [
    {
     "name": "stdout",
     "output_type": "stream",
     "text": [
      "float64\n",
      "(4,)\n"
     ]
    }
   ],
   "source": [
    "arr = np.array([11.,12.5, 5.,7.])\n",
    "print(arr.dtype)\n",
    "print(arr.shape)\n"
   ]
  },
  {
   "cell_type": "code",
   "execution_count": 97,
   "metadata": {},
   "outputs": [
    {
     "name": "stdout",
     "output_type": "stream",
     "text": [
      "int64\n",
      "(2, 3)\n",
      "[[1 2 3]\n",
      " [4 5 6]]\n",
      "[1 2 3 4 5 6]\n"
     ]
    }
   ],
   "source": [
    "arr = np.array([[1,2,3],[4,5,6]])\n",
    "print(arr.dtype)\n",
    "print(arr.shape)\n",
    "print(arr)\n",
    "\n",
    "# note that python's matrix is column-first (c-style)\n",
    "# elements in the last column are stored next to each other in the memory\n",
    "# so any operation that manipulate the last column will be more efficient \n",
    "# than operating the first column\n",
    "print(arr.ravel()) # ravel to one dimensional array\n"
   ]
  },
  {
   "cell_type": "code",
   "execution_count": 112,
   "metadata": {},
   "outputs": [
    {
     "name": "stdout",
     "output_type": "stream",
     "text": [
      "[1.   1.25 1.5  1.75]\n",
      "[1.   1.25 1.5  1.75 2.  ]\n",
      "[ 10.          17.7827941   31.6227766   56.23413252 100.        ]\n",
      "[[0. 0. 0.]\n",
      " [0. 0. 0.]\n",
      " [0. 0. 0.]]\n",
      "[[1. 1. 1. 1.]\n",
      " [1. 1. 1. 1.]\n",
      " [1. 1. 1. 1.]\n",
      " [1. 1. 1. 1.]]\n",
      "[[0 0 0 0]\n",
      " [0 1 0 0]\n",
      " [0 0 2 0]\n",
      " [0 0 0 3]]\n",
      "(21, 11) (21, 11)\n",
      "[[20. 21. 22. 23. 24. 25. 26. 27. 28. 29. 30.]\n",
      " [20. 21. 22. 23. 24. 25. 26. 27. 28. 29. 30.]\n",
      " [20. 21. 22. 23. 24. 25. 26. 27. 28. 29. 30.]\n",
      " [20. 21. 22. 23. 24. 25. 26. 27. 28. 29. 30.]\n",
      " [20. 21. 22. 23. 24. 25. 26. 27. 28. 29. 30.]\n",
      " [20. 21. 22. 23. 24. 25. 26. 27. 28. 29. 30.]\n",
      " [20. 21. 22. 23. 24. 25. 26. 27. 28. 29. 30.]\n",
      " [20. 21. 22. 23. 24. 25. 26. 27. 28. 29. 30.]\n",
      " [20. 21. 22. 23. 24. 25. 26. 27. 28. 29. 30.]\n",
      " [20. 21. 22. 23. 24. 25. 26. 27. 28. 29. 30.]\n",
      " [20. 21. 22. 23. 24. 25. 26. 27. 28. 29. 30.]\n",
      " [20. 21. 22. 23. 24. 25. 26. 27. 28. 29. 30.]\n",
      " [20. 21. 22. 23. 24. 25. 26. 27. 28. 29. 30.]\n",
      " [20. 21. 22. 23. 24. 25. 26. 27. 28. 29. 30.]\n",
      " [20. 21. 22. 23. 24. 25. 26. 27. 28. 29. 30.]\n",
      " [20. 21. 22. 23. 24. 25. 26. 27. 28. 29. 30.]\n",
      " [20. 21. 22. 23. 24. 25. 26. 27. 28. 29. 30.]\n",
      " [20. 21. 22. 23. 24. 25. 26. 27. 28. 29. 30.]\n",
      " [20. 21. 22. 23. 24. 25. 26. 27. 28. 29. 30.]\n",
      " [20. 21. 22. 23. 24. 25. 26. 27. 28. 29. 30.]\n",
      " [20. 21. 22. 23. 24. 25. 26. 27. 28. 29. 30.]]\n"
     ]
    }
   ],
   "source": [
    "# useful commands to generate data/index\n",
    "\n",
    "print(np.arange(1.,2.,0.25)) # left inclusive\n",
    "print(np.linspace(1.,2.,5)) # left and right inclusive\n",
    "print(np.logspace(1.,2.,5)) # default has a 10-base\n",
    "\n",
    "# matric creation\n",
    "print(np.zeros((3,3))) # 3-by-3 zero matrix\n",
    "print(np.ones((4,4))) # 4-by-4 unity matrix\n",
    "print(np.diag(np.arange(4))) # diagonal matrix\n",
    "\n",
    "lon = np.linspace(-100,-80,21)\n",
    "lat = np.linspace(20,30,11)\n",
    "\n",
    "xx,yy = np.meshgrid(lat,lon) # useful for plotting spatial maps\n",
    "print(xx.shape,yy.shape)\n",
    "print(xx)"
   ]
  },
  {
   "cell_type": "markdown",
   "metadata": {},
   "source": [
    "Lots of array operations in numpy are available. All the familiar arithmetic operators are applied on an element-by-element basis"
   ]
  },
  {
   "cell_type": "code",
   "execution_count": 114,
   "metadata": {},
   "outputs": [],
   "source": [
    "abundance_mat = np.random.random(xx.shape) \n",
    "# generate a [0,1) random matrix with the same shape as xx\n",
    "print(abundance_mat)"
   ]
  },
  {
   "cell_type": "code",
   "execution_count": 120,
   "metadata": {},
   "outputs": [
    {
     "name": "stdout",
     "output_type": "stream",
     "text": [
      "[[ True  True  True  True False  True  True  True  True False  True]\n",
      " [ True  True  True  True  True  True  True False  True  True  True]\n",
      " [ True  True  True  True  True False  True False  True  True  True]\n",
      " [ True  True  True  True  True  True  True  True  True  True  True]\n",
      " [ True  True  True  True  True  True False  True  True  True  True]\n",
      " [ True  True  True  True  True  True  True  True  True  True  True]\n",
      " [False  True  True  True False  True  True  True  True  True  True]\n",
      " [ True  True False  True  True  True  True  True  True  True  True]\n",
      " [ True  True  True  True  True  True  True  True  True  True  True]\n",
      " [ True  True  True  True  True  True  True  True  True  True  True]\n",
      " [False  True False  True  True  True  True  True  True  True False]\n",
      " [ True  True  True  True  True  True  True  True  True  True  True]\n",
      " [ True  True  True  True False  True False  True False  True  True]\n",
      " [ True  True  True  True  True  True  True False  True  True  True]\n",
      " [ True  True False  True  True  True  True  True  True  True False]\n",
      " [ True  True  True  True  True  True  True False  True False  True]\n",
      " [ True False  True  True  True  True  True  True  True  True  True]\n",
      " [ True  True False  True  True  True  True  True  True  True  True]\n",
      " [ True  True  True  True  True  True  True  True False  True  True]\n",
      " [ True  True False  True  True  True  True  True  True  True  True]\n",
      " [ True  True  True  True  True  True  True False  True  True  True]]\n",
      "206\n",
      "0.8917748917748918\n"
     ]
    }
   ],
   "source": [
    "print(abundance_mat > 0.1) # places with abudnance larger than 0.1\n",
    "print(sum((abundance_mat > 0.1).ravel())) # total number of elements with abundance larger than 0.1\n",
    "print(sum((abundance_mat > 0.1).ravel()) / len(abundance_mat.ravel())) # should be close to 0.9"
   ]
  },
  {
   "cell_type": "code",
   "execution_count": 124,
   "metadata": {},
   "outputs": [
    {
     "name": "stdout",
     "output_type": "stream",
     "text": [
      "24.5 µs ± 602 ns per loop (mean ± std. dev. of 7 runs, 10000 loops each)\n",
      "459 ns ± 9.75 ns per loop (mean ± std. dev. of 7 runs, 1000000 loops each)\n"
     ]
    }
   ],
   "source": [
    "# numpy is efficient in matrix manipulation\n",
    "# let's use a dot product as an example\n",
    "\n",
    "# define a function to do dot product ourselves\n",
    "def my_dot_prod(A,B):\n",
    "    '''\n",
    "        This is documentation for a function\n",
    "    '''\n",
    "    \n",
    "    C = np.zeros_like(A)\n",
    "    \n",
    "    length = len(C.ravel())\n",
    "    \n",
    "    for i in range(length):\n",
    "        C[i] = A[i] * B[i]\n",
    "        \n",
    "    return C\n",
    "\n",
    "# use numpy dot product\n",
    "def numpy_prod(A,B):\n",
    "    \n",
    "    return A * B\n",
    "\n",
    "\n",
    "# lets check their performance\n",
    "A = np.random.random(100)\n",
    "B = np.random.random(100)\n",
    "\n",
    "%timeit my_dot_prod(A,B)\n",
    "\n",
    "%timeit numpy_prod(A,B)\n",
    "    "
   ]
  },
  {
   "cell_type": "markdown",
   "metadata": {},
   "source": [
    "Note that values of numeric variables changed in fuctions will not be kept but values of lists/matrices changed in python functions will be kept."
   ]
  },
  {
   "cell_type": "code",
   "execution_count": 129,
   "metadata": {},
   "outputs": [
    {
     "name": "stdout",
     "output_type": "stream",
     "text": [
      "in function a,b = 1, 1\n",
      "after function a,b = 0, 0\n",
      "after function new_a,new_b = 1, 1\n"
     ]
    }
   ],
   "source": [
    "def modify_values(a):\n",
    "    a = 1\n",
    "    b = 1\n",
    "    print(f'in function a,b = {a}, {b}')\n",
    "    return (a,b)\n",
    "\n",
    "a, b = 0, 0\n",
    "new_a,new_b = modify_values(a)\n",
    "\n",
    "print(f'after function a,b = {a}, {b}')\n",
    "print(f'after function new_a,new_b = {new_a}, {new_b}')\n"
   ]
  },
  {
   "cell_type": "code",
   "execution_count": 130,
   "metadata": {},
   "outputs": [
    {
     "name": "stdout",
     "output_type": "stream",
     "text": [
      "['new_element']\n",
      "[1 1 2 3 4]\n"
     ]
    }
   ],
   "source": [
    "# note that values of lists/matrices changed in python functions will be kept\n",
    "\n",
    "\n",
    "def modify_list(A,B):\n",
    "    A.append('new_element')\n",
    "    B[0] = 1.\n",
    "    return\n",
    "\n",
    "A = []\n",
    "B = np.arange(5)\n",
    "modify_list(A,B)\n",
    "print(A)\n",
    "print(B)\n",
    "\n"
   ]
  },
  {
   "cell_type": "markdown",
   "metadata": {},
   "source": [
    "### 3. Pandas and Matplotlib\n",
    "\n",
    "[Pandas](https://pandas.pydata.org/) is an open source library providing high-performance, easy-to-use data structures and data analysis. It organizes data similarly to R dataframes and is particularly suited to tabular data (e.g. data in excel spreadsheet/csv files)\n",
    "\n",
    "[Matplotlib](https://matplotlib.org/) is the backbone of data visualization in python."
   ]
  },
  {
   "cell_type": "code",
   "execution_count": 131,
   "metadata": {},
   "outputs": [
    {
     "name": "stdout",
     "output_type": "stream",
     "text": [
      "QR1    15.5\n",
      "QR2     5.5\n",
      "QA1    20.5\n",
      "QA2    30.0\n",
      "AR1    55.0\n",
      "AR2    65.0\n",
      "dtype: float64\n"
     ]
    }
   ],
   "source": [
    "import pandas as pd\n",
    "\n",
    "# the basic structure is Series - one-dimensional array with index.\n",
    "\n",
    "Tree_ID = ['QR1','QR2','QA1','QA2','AR1','AR2']\n",
    "diameter = [15.5,5.5,20.5,30.,55.,65.]\n",
    "\n",
    "d_series = pd.Series(diameter,index=Tree_ID)\n",
    "print(d_series)\n"
   ]
  },
  {
   "cell_type": "code",
   "execution_count": 133,
   "metadata": {},
   "outputs": [],
   "source": [
    "from matplotlib import pyplot as plt # import matplotlib\n",
    "# allow for inline plotting in jupyter notebook\n",
    "%matplotlib inline "
   ]
  },
  {
   "cell_type": "code",
   "execution_count": 136,
   "metadata": {},
   "outputs": [
    {
     "data": {
      "image/png": "[encoded data removed]",
      "text/plain": [
       "<Figure size 216x288 with 1 Axes>"
      ]
     },
     "metadata": {
      "needs_background": "light"
     },
     "output_type": "display_data"
    },
    {
     "data": {
      "image/png": "[encoded data removed]",
      "text/plain": [
       "<Figure size 216x288 with 1 Axes>"
      ]
     },
     "metadata": {
      "needs_background": "light"
     },
     "output_type": "display_data"
    }
   ],
   "source": [
    "fig = plt.figure(figsize=(3,4)) # figsize in inches\n",
    "axis_handle = d_series.plot(kind='bar')\n",
    "# or d_series.plot.bar()\n"
   ]
  },
  {
   "cell_type": "markdown",
   "metadata": {},
   "source": [
    "**Indexing**\n",
    "We can get values using .loc attribute"
   ]
  },
  {
   "cell_type": "code",
   "execution_count": 142,
   "metadata": {},
   "outputs": [
    {
     "name": "stdout",
     "output_type": "stream",
     "text": [
      "QR1    15.5\n",
      "QA1    20.5\n",
      "dtype: float64\n",
      "QR1    15.5\n",
      "QA1    20.5\n",
      "dtype: float64\n"
     ]
    }
   ],
   "source": [
    "print(d_series.loc[['QR1','QA1']]) # use index\n",
    "print(d_series.iloc[[0,2]]) # use raw position"
   ]
  },
  {
   "cell_type": "markdown",
   "metadata": {},
   "source": [
    "**DataFrame**\n",
    "equivalent to a table in a spreadsheet"
   ]
  },
  {
   "cell_type": "code",
   "execution_count": 149,
   "metadata": {},
   "outputs": [
    {
     "name": "stdout",
     "output_type": "stream",
     "text": [
      "            Species  Diameter     Height\n",
      "QR1  Quercus Rubrum      15.5  10.701886\n",
      "QR2  Quercus Rubrum       5.5   6.374936\n",
      "QA1    Quercus Alba      20.5  12.307544\n",
      "QA2    Quercus Alba      30.0  14.888643\n",
      "AR1     Acer Rubrum      55.0  20.159318\n",
      "AR2     Acer Rubrum      65.0  21.915489\n",
      "<class 'pandas.core.frame.DataFrame'>\n",
      "Index: 6 entries, QR1 to AR2\n",
      "Data columns (total 3 columns):\n",
      "Species     6 non-null object\n",
      "Diameter    6 non-null float64\n",
      "Height      6 non-null float64\n",
      "dtypes: float64(2), object(1)\n",
      "memory usage: 192.0+ bytes\n"
     ]
    }
   ],
   "source": [
    "# assume we know the allometric equation to convert tree diameter to tree height\n",
    "tree_height = np.exp(1.0 + 0.5 * np.log(d_series.values))\n",
    "\n",
    "# add tree species\n",
    "species_dict = {'QA' : 'Quercus Alba',\n",
    "                'QR' : 'Quercus Rubrum',\n",
    "                'AR' : 'Acer Rubrum'}\n",
    "\n",
    "tree_species = [species_dict[tree_index[0:2]] for tree_index in d_series.index]\n",
    "\n",
    "# create a datafrome from a dictionary\n",
    "data = {'Species' : tree_species,\n",
    "        'Diameter' : d_series.values,\n",
    "        'Height' : tree_height}\n",
    "\n",
    "df = pd.DataFrame(data,index=Tree_ID)\n",
    "print(df)\n"
   ]
  },
  {
   "cell_type": "code",
   "execution_count": 150,
   "metadata": {},
   "outputs": [
    {
     "name": "stdout",
     "output_type": "stream",
     "text": [
      "<class 'pandas.core.frame.DataFrame'>\n",
      "Index: 6 entries, QR1 to AR2\n",
      "Data columns (total 3 columns):\n",
      "Species     6 non-null object\n",
      "Diameter    6 non-null float64\n",
      "Height      6 non-null float64\n",
      "dtypes: float64(2), object(1)\n",
      "memory usage: 192.0+ bytes\n"
     ]
    }
   ],
   "source": [
    "df.info()"
   ]
  },
  {
   "cell_type": "code",
   "execution_count": 151,
   "metadata": {},
   "outputs": [
    {
     "data": {
      "text/html": [
       "<div>\n",
       "<style scoped>\n",
       "    .dataframe tbody tr th:only-of-type {\n",
       "        vertical-align: middle;\n",
       "    }\n",
       "\n",
       "    .dataframe tbody tr th {\n",
       "        vertical-align: top;\n",
       "    }\n",
       "\n",
       "    .dataframe thead th {\n",
       "        text-align: right;\n",
       "    }\n",
       "</style>\n",
       "<table border=\"1\" class=\"dataframe\">\n",
       "  <thead>\n",
       "    <tr style=\"text-align: right;\">\n",
       "      <th></th>\n",
       "      <th>Species</th>\n",
       "      <th>Diameter</th>\n",
       "      <th>Height</th>\n",
       "    </tr>\n",
       "  </thead>\n",
       "  <tbody>\n",
       "    <tr>\n",
       "      <th>QR1</th>\n",
       "      <td>Quercus Rubrum</td>\n",
       "      <td>15.5</td>\n",
       "      <td>10.701886</td>\n",
       "    </tr>\n",
       "    <tr>\n",
       "      <th>QR2</th>\n",
       "      <td>Quercus Rubrum</td>\n",
       "      <td>5.5</td>\n",
       "      <td>6.374936</td>\n",
       "    </tr>\n",
       "  </tbody>\n",
       "</table>\n",
       "</div>"
      ],
      "text/plain": [
       "            Species  Diameter     Height\n",
       "QR1  Quercus Rubrum      15.5  10.701886\n",
       "QR2  Quercus Rubrum       5.5   6.374936"
      ]
     },
     "execution_count": 151,
     "metadata": {},
     "output_type": "execute_result"
    }
   ],
   "source": [
    "df.head(2)"
   ]
  },
  {
   "cell_type": "code",
   "execution_count": 154,
   "metadata": {},
   "outputs": [
    {
     "data": {
      "text/plain": [
       "Species     Acer Rubrum\n",
       "Diameter            5.5\n",
       "Height          6.37494\n",
       "dtype: object"
      ]
     },
     "execution_count": 154,
     "metadata": {},
     "output_type": "execute_result"
    }
   ],
   "source": [
    "df.min()"
   ]
  },
  {
   "cell_type": "code",
   "execution_count": 153,
   "metadata": {},
   "outputs": [
    {
     "data": {
      "text/plain": [
       "Diameter    31.916667\n",
       "Height      14.391303\n",
       "dtype: float64"
      ]
     },
     "execution_count": 153,
     "metadata": {},
     "output_type": "execute_result"
    }
   ],
   "source": [
    "df.mean()"
   ]
  },
  {
   "cell_type": "code",
   "execution_count": 155,
   "metadata": {},
   "outputs": [
    {
     "data": {
      "text/plain": [
       "Diameter    23.361114\n",
       "Height       5.871059\n",
       "dtype: float64"
      ]
     },
     "execution_count": 155,
     "metadata": {},
     "output_type": "execute_result"
    }
   ],
   "source": [
    "df.std()"
   ]
  },
  {
   "cell_type": "code",
   "execution_count": 156,
   "metadata": {},
   "outputs": [
    {
     "data": {
      "text/html": [
       "<div>\n",
       "<style scoped>\n",
       "    .dataframe tbody tr th:only-of-type {\n",
       "        vertical-align: middle;\n",
       "    }\n",
       "\n",
       "    .dataframe tbody tr th {\n",
       "        vertical-align: top;\n",
       "    }\n",
       "\n",
       "    .dataframe thead th {\n",
       "        text-align: right;\n",
       "    }\n",
       "</style>\n",
       "<table border=\"1\" class=\"dataframe\">\n",
       "  <thead>\n",
       "    <tr style=\"text-align: right;\">\n",
       "      <th></th>\n",
       "      <th>Diameter</th>\n",
       "      <th>Height</th>\n",
       "    </tr>\n",
       "  </thead>\n",
       "  <tbody>\n",
       "    <tr>\n",
       "      <th>count</th>\n",
       "      <td>6.000000</td>\n",
       "      <td>6.000000</td>\n",
       "    </tr>\n",
       "    <tr>\n",
       "      <th>mean</th>\n",
       "      <td>31.916667</td>\n",
       "      <td>14.391303</td>\n",
       "    </tr>\n",
       "    <tr>\n",
       "      <th>std</th>\n",
       "      <td>23.361114</td>\n",
       "      <td>5.871059</td>\n",
       "    </tr>\n",
       "    <tr>\n",
       "      <th>min</th>\n",
       "      <td>5.500000</td>\n",
       "      <td>6.374936</td>\n",
       "    </tr>\n",
       "    <tr>\n",
       "      <th>25%</th>\n",
       "      <td>16.750000</td>\n",
       "      <td>11.103301</td>\n",
       "    </tr>\n",
       "    <tr>\n",
       "      <th>50%</th>\n",
       "      <td>25.250000</td>\n",
       "      <td>13.598094</td>\n",
       "    </tr>\n",
       "    <tr>\n",
       "      <th>75%</th>\n",
       "      <td>48.750000</td>\n",
       "      <td>18.841649</td>\n",
       "    </tr>\n",
       "    <tr>\n",
       "      <th>max</th>\n",
       "      <td>65.000000</td>\n",
       "      <td>21.915489</td>\n",
       "    </tr>\n",
       "  </tbody>\n",
       "</table>\n",
       "</div>"
      ],
      "text/plain": [
       "        Diameter     Height\n",
       "count   6.000000   6.000000\n",
       "mean   31.916667  14.391303\n",
       "std    23.361114   5.871059\n",
       "min     5.500000   6.374936\n",
       "25%    16.750000  11.103301\n",
       "50%    25.250000  13.598094\n",
       "75%    48.750000  18.841649\n",
       "max    65.000000  21.915489"
      ]
     },
     "execution_count": 156,
     "metadata": {},
     "output_type": "execute_result"
    }
   ],
   "source": [
    "df.describe()"
   ]
  },
  {
   "cell_type": "markdown",
   "metadata": {},
   "source": [
    "Add column to a DataFrame"
   ]
  },
  {
   "cell_type": "code",
   "execution_count": 158,
   "metadata": {},
   "outputs": [
    {
     "data": {
      "text/html": [
       "<div>\n",
       "<style scoped>\n",
       "    .dataframe tbody tr th:only-of-type {\n",
       "        vertical-align: middle;\n",
       "    }\n",
       "\n",
       "    .dataframe tbody tr th {\n",
       "        vertical-align: top;\n",
       "    }\n",
       "\n",
       "    .dataframe thead th {\n",
       "        text-align: right;\n",
       "    }\n",
       "</style>\n",
       "<table border=\"1\" class=\"dataframe\">\n",
       "  <thead>\n",
       "    <tr style=\"text-align: right;\">\n",
       "      <th></th>\n",
       "      <th>Diameter</th>\n",
       "      <th>Height</th>\n",
       "      <th>Volume</th>\n",
       "    </tr>\n",
       "  </thead>\n",
       "  <tbody>\n",
       "    <tr>\n",
       "      <th>count</th>\n",
       "      <td>6.000000</td>\n",
       "      <td>6.000000</td>\n",
       "      <td>6.000000</td>\n",
       "    </tr>\n",
       "    <tr>\n",
       "      <th>mean</th>\n",
       "      <td>31.916667</td>\n",
       "      <td>14.391303</td>\n",
       "      <td>2.289578</td>\n",
       "    </tr>\n",
       "    <tr>\n",
       "      <th>std</th>\n",
       "      <td>23.361114</td>\n",
       "      <td>5.871059</td>\n",
       "      <td>3.022760</td>\n",
       "    </tr>\n",
       "    <tr>\n",
       "      <th>min</th>\n",
       "      <td>5.500000</td>\n",
       "      <td>6.374936</td>\n",
       "      <td>0.015146</td>\n",
       "    </tr>\n",
       "    <tr>\n",
       "      <th>25%</th>\n",
       "      <td>16.750000</td>\n",
       "      <td>11.103301</td>\n",
       "      <td>0.253009</td>\n",
       "    </tr>\n",
       "    <tr>\n",
       "      <th>50%</th>\n",
       "      <td>25.250000</td>\n",
       "      <td>13.598094</td>\n",
       "      <td>0.729322</td>\n",
       "    </tr>\n",
       "    <tr>\n",
       "      <th>75%</th>\n",
       "      <td>48.750000</td>\n",
       "      <td>18.841649</td>\n",
       "      <td>3.855237</td>\n",
       "    </tr>\n",
       "    <tr>\n",
       "      <th>max</th>\n",
       "      <td>65.000000</td>\n",
       "      <td>21.915489</td>\n",
       "      <td>7.272232</td>\n",
       "    </tr>\n",
       "  </tbody>\n",
       "</table>\n",
       "</div>"
      ],
      "text/plain": [
       "        Diameter     Height    Volume\n",
       "count   6.000000   6.000000  6.000000\n",
       "mean   31.916667  14.391303  2.289578\n",
       "std    23.361114   5.871059  3.022760\n",
       "min     5.500000   6.374936  0.015146\n",
       "25%    16.750000  11.103301  0.253009\n",
       "50%    25.250000  13.598094  0.729322\n",
       "75%    48.750000  18.841649  3.855237\n",
       "max    65.000000  21.915489  7.272232"
      ]
     },
     "execution_count": 158,
     "metadata": {},
     "output_type": "execute_result"
    }
   ],
   "source": [
    "df['Volume'] = df['Height'] * np.pi * (df['Diameter'] / 200.) ** 2. # assume each tree is a cylinder\n",
    "df.describe()"
   ]
  },
  {
   "cell_type": "markdown",
   "metadata": {},
   "source": [
    "Now let's explore pandas and matplotlib using a real data set"
   ]
  },
  {
   "cell_type": "markdown",
   "metadata": {},
   "source": [
    "BAAD database\n",
    "\n",
    "### 4. Spatio-temporal data with NETCDF4, Xarray, and Cartopy\n",
    "TerraClimate?"
   ]
  },
  {
   "cell_type": "markdown",
   "metadata": {},
   "source": []
  },
  {
   "cell_type": "code",
   "execution_count": 1,
   "metadata": {},
   "outputs": [],
   "source": []
  },
  {
   "cell_type": "code",
   "execution_count": 3,
   "metadata": {},
   "outputs": [
    {
     "name": "stderr",
     "output_type": "stream",
     "text": [
      "/home/xiangtao/programs/miniconda3/lib/python3.7/site-packages/IPython/core/interactiveshell.py:3058: DtypeWarning: Columns (9) have mixed types. Specify dtype option on import or set low_memory=False.\n",
      "  interactivity=interactivity, compiler=compiler, result=result)\n"
     ]
    }
   ],
   "source": []
  },
  {
   "cell_type": "code",
   "execution_count": 4,
   "metadata": {},
   "outputs": [
    {
     "data": {
      "text/html": [
       "<div>\n",
       "<style scoped>\n",
       "    .dataframe tbody tr th:only-of-type {\n",
       "        vertical-align: middle;\n",
       "    }\n",
       "\n",
       "    .dataframe tbody tr th {\n",
       "        vertical-align: top;\n",
       "    }\n",
       "\n",
       "    .dataframe thead th {\n",
       "        text-align: right;\n",
       "    }\n",
       "</style>\n",
       "<table border=\"1\" class=\"dataframe\">\n",
       "  <thead>\n",
       "    <tr style=\"text-align: right;\">\n",
       "      <th></th>\n",
       "      <th>taxonID</th>\n",
       "      <th>locationID</th>\n",
       "      <th>locality</th>\n",
       "      <th>country</th>\n",
       "      <th>countryCode</th>\n",
       "      <th>locationRemarks</th>\n",
       "      <th>establishmentMeans</th>\n",
       "      <th>lifeStage</th>\n",
       "      <th>occurrenceStatus</th>\n",
       "      <th>threatStatus</th>\n",
       "      <th>source</th>\n",
       "    </tr>\n",
       "  </thead>\n",
       "  <tbody>\n",
       "    <tr>\n",
       "      <th>0</th>\n",
       "      <td>5190113</td>\n",
       "      <td>http://marineregions.org/mrgid/14291</td>\n",
       "      <td>West Atlantic</td>\n",
       "      <td>NaN</td>\n",
       "      <td>NaN</td>\n",
       "      <td>from Massachusetts, USA, to Brazil</td>\n",
       "      <td>NaN</td>\n",
       "      <td>NaN</td>\n",
       "      <td>present</td>\n",
       "      <td>NaN</td>\n",
       "      <td>World Register of Marine Species</td>\n",
       "    </tr>\n",
       "    <tr>\n",
       "      <th>1</th>\n",
       "      <td>5190113</td>\n",
       "      <td>http://marineregions.org/mrgid/14308</td>\n",
       "      <td>West Coast of South Africa</td>\n",
       "      <td>South Africa</td>\n",
       "      <td>ZA</td>\n",
       "      <td>NaN</td>\n",
       "      <td>NaN</td>\n",
       "      <td>NaN</td>\n",
       "      <td>present</td>\n",
       "      <td>NaN</td>\n",
       "      <td>World Register of Marine Species</td>\n",
       "    </tr>\n",
       "    <tr>\n",
       "      <th>2</th>\n",
       "      <td>5190113</td>\n",
       "      <td>http://marineregions.org/mrgid/1905</td>\n",
       "      <td>Mediterranean Sea</td>\n",
       "      <td>NaN</td>\n",
       "      <td>NaN</td>\n",
       "      <td>NaN</td>\n",
       "      <td>NaN</td>\n",
       "      <td>NaN</td>\n",
       "      <td>present</td>\n",
       "      <td>NaN</td>\n",
       "      <td>World Register of Marine Species</td>\n",
       "    </tr>\n",
       "    <tr>\n",
       "      <th>3</th>\n",
       "      <td>5190113</td>\n",
       "      <td>http://marineregions.org/mrgid/1905</td>\n",
       "      <td>Mediterranean Sea</td>\n",
       "      <td>NaN</td>\n",
       "      <td>NaN</td>\n",
       "      <td>NaN</td>\n",
       "      <td>NaN</td>\n",
       "      <td>NaN</td>\n",
       "      <td>present</td>\n",
       "      <td>NaN</td>\n",
       "      <td>World Register of Marine Species</td>\n",
       "    </tr>\n",
       "    <tr>\n",
       "      <th>4</th>\n",
       "      <td>5190113</td>\n",
       "      <td>http://marineregions.org/mrgid/1912</td>\n",
       "      <td>North Atlantic Ocean</td>\n",
       "      <td>NaN</td>\n",
       "      <td>NaN</td>\n",
       "      <td>NaN</td>\n",
       "      <td>NaN</td>\n",
       "      <td>NaN</td>\n",
       "      <td>present</td>\n",
       "      <td>NaN</td>\n",
       "      <td>World Register of Marine Species</td>\n",
       "    </tr>\n",
       "  </tbody>\n",
       "</table>\n",
       "</div>"
      ],
      "text/plain": [
       "   taxonID                            locationID                    locality  \\\n",
       "0  5190113  http://marineregions.org/mrgid/14291               West Atlantic   \n",
       "1  5190113  http://marineregions.org/mrgid/14308  West Coast of South Africa   \n",
       "2  5190113   http://marineregions.org/mrgid/1905           Mediterranean Sea   \n",
       "3  5190113   http://marineregions.org/mrgid/1905           Mediterranean Sea   \n",
       "4  5190113   http://marineregions.org/mrgid/1912        North Atlantic Ocean   \n",
       "\n",
       "        country countryCode                     locationRemarks  \\\n",
       "0           NaN         NaN  from Massachusetts, USA, to Brazil   \n",
       "1  South Africa          ZA                                 NaN   \n",
       "2           NaN         NaN                                 NaN   \n",
       "3           NaN         NaN                                 NaN   \n",
       "4           NaN         NaN                                 NaN   \n",
       "\n",
       "  establishmentMeans  lifeStage occurrenceStatus threatStatus  \\\n",
       "0                NaN        NaN          present          NaN   \n",
       "1                NaN        NaN          present          NaN   \n",
       "2                NaN        NaN          present          NaN   \n",
       "3                NaN        NaN          present          NaN   \n",
       "4                NaN        NaN          present          NaN   \n",
       "\n",
       "                             source  \n",
       "0  World Register of Marine Species  \n",
       "1  World Register of Marine Species  \n",
       "2  World Register of Marine Species  \n",
       "3  World Register of Marine Species  \n",
       "4  World Register of Marine Species  "
      ]
     },
     "execution_count": 4,
     "metadata": {},
     "output_type": "execute_result"
    }
   ],
   "source": [
    "df.head()"
   ]
  },
  {
   "cell_type": "code",
   "execution_count": null,
   "metadata": {},
   "outputs": [],
   "source": []
  }
 ],
 "metadata": {
  "kernelspec": {
   "display_name": "Python 3",
   "language": "python",
   "name": "python3"
  },
  "language_info": {
   "codemirror_mode": {
    "name": "ipython",
    "version": 3
   },
   "file_extension": ".py",
   "mimetype": "text/x-python",
   "name": "python",
   "nbconvert_exporter": "python",
   "pygments_lexer": "ipython3",
   "version": "3.7.3"
  }
 },
 "nbformat": 4,
 "nbformat_minor": 4
}
